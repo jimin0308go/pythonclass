{
  "nbformat": 4,
  "nbformat_minor": 0,
  "metadata": {
    "colab": {
      "provenance": [],
      "authorship_tag": "ABX9TyOv7iloH2geE08rQHcJuvaF",
      "include_colab_link": true
    },
    "kernelspec": {
      "name": "python3",
      "display_name": "Python 3"
    },
    "language_info": {
      "name": "python"
    }
  },
  "cells": [
    {
      "cell_type": "markdown",
      "metadata": {
        "id": "view-in-github",
        "colab_type": "text"
      },
      "source": [
        "<a href=\"https://colab.research.google.com/github/jimin0308go/pythonclass/blob/main/Untitled8.ipynb\" target=\"_parent\"><img src=\"https://colab.research.google.com/assets/colab-badge.svg\" alt=\"Open In Colab\"/></a>"
      ]
    },
    {
      "cell_type": "code",
      "execution_count": 8,
      "metadata": {
        "colab": {
          "base_uri": "https://localhost:8080/"
        },
        "id": "D7FmCAqfks-l",
        "outputId": "965eea2d-ca08-4bf2-9ba2-38ab6d6377ec"
      },
      "outputs": [
        {
          "output_type": "stream",
          "name": "stdout",
          "text": [
            "number123.124\n",
            "246.248\n"
          ]
        }
      ],
      "source": [
        "num = float(input(\"number:\"))\n",
        "print(num*2)"
      ]
    },
    {
      "cell_type": "code",
      "source": [
        "num = float(input(\"number\"))\n",
        "x = (num*2)\n",
        "print(round(x, 3))"
      ],
      "metadata": {
        "colab": {
          "base_uri": "https://localhost:8080/"
        },
        "id": "RUo-0YbGkwho",
        "outputId": "c29b68e5-2ec2-44e6-a34a-71dbfbf19aab"
      },
      "execution_count": 14,
      "outputs": [
        {
          "output_type": "stream",
          "name": "stdout",
          "text": [
            "number123.32\n",
            "246.64\n"
          ]
        }
      ]
    },
    {
      "cell_type": "code",
      "source": [
        "import math\n",
        "num = int(input(\"number over 500: \"))\n",
        "x = math.sqrt(num)\n",
        "print(x, num*2)"
      ],
      "metadata": {
        "colab": {
          "base_uri": "https://localhost:8080/"
        },
        "id": "8tehwY-mkwdg",
        "outputId": "112a8a9a-c4b8-47e2-8952-782da667aa73"
      },
      "execution_count": 29,
      "outputs": [
        {
          "output_type": "stream",
          "name": "stdout",
          "text": [
            "number over 500: 235\n",
            "15.329709716755891 470\n"
          ]
        }
      ]
    },
    {
      "cell_type": "code",
      "source": [
        "import math\n",
        "x = math.pi\n",
        "print(round(x , 5))"
      ],
      "metadata": {
        "colab": {
          "base_uri": "https://localhost:8080/"
        },
        "id": "isPapAbCkwZR",
        "outputId": "ab7eb71d-8e6f-4672-8574-8cb8e2041beb"
      },
      "execution_count": 31,
      "outputs": [
        {
          "output_type": "stream",
          "name": "stdout",
          "text": [
            "3.14159\n"
          ]
        }
      ]
    },
    {
      "cell_type": "code",
      "source": [
        "import math\n",
        "num = int(input(\"radius of circle: \"))\n",
        "x = math.pi\n",
        "print(x*num**2)"
      ],
      "metadata": {
        "colab": {
          "base_uri": "https://localhost:8080/"
        },
        "id": "6UH3C_RmkwVp",
        "outputId": "b05e3001-f600-4e00-b2f5-9ff1b206b367"
      },
      "execution_count": 33,
      "outputs": [
        {
          "output_type": "stream",
          "name": "stdout",
          "text": [
            "radius of circle: 123\n",
            "47529.15525615998\n"
          ]
        }
      ]
    },
    {
      "cell_type": "code",
      "source": [
        "import math\n",
        "num = int(input(\"radius of circle: \"))\n",
        "num1 = int(input(\"depth: \"))\n",
        "x = math.pi\n",
        "y = x*num**2\n",
        "print(y*num1)"
      ],
      "metadata": {
        "colab": {
          "base_uri": "https://localhost:8080/"
        },
        "id": "Fp7LCuw-kwSJ",
        "outputId": "43684ba8-3353-4d60-cf93-525d1f332d38"
      },
      "execution_count": 43,
      "outputs": [
        {
          "output_type": "stream",
          "name": "stdout",
          "text": [
            "radius of circle: 10\n",
            "depth: 20\n",
            "6283.185307179587\n"
          ]
        }
      ]
    },
    {
      "cell_type": "code",
      "source": [
        "import math\n",
        "num1 = int(input(\"num1: \"))\n",
        "num2 = int(input(\"num2: \"))\n",
        "x = round(num1/num2)\n",
        "y = (num1%num2)\n",
        "print(num1,\"divided by\",num2, \"is\", x, \"with\", y)"
      ],
      "metadata": {
        "colab": {
          "base_uri": "https://localhost:8080/"
        },
        "id": "40PtjKmVkwN5",
        "outputId": "876bcd99-11cf-4bd1-e913-18e69816aba2"
      },
      "execution_count": 42,
      "outputs": [
        {
          "output_type": "stream",
          "name": "stdout",
          "text": [
            "num1: 10\n",
            "num2: 3\n",
            "10 divided by 3 is 3 with 1\n"
          ]
        }
      ]
    },
    {
      "cell_type": "code",
      "source": [
        "print(\" 1) square: \")\n",
        "print(\" 2) Triangle\")\n",
        "ask = int(input())\n",
        "if ask == 1:\n",
        "  num1 = int(input(\"length of one: \"))\n",
        "  num2 = int(input(\"base: \"))\n",
        "  print(num1*num2)\n",
        "elif ask == 2:\n",
        "  num3 = int(input(\"base: \"))\n",
        "  num4 = int(input(\"hight: \"))\n",
        "  x=num3*num4\n",
        "  print(x/2)\n",
        "else:\n",
        "  print(\"error\")"
      ],
      "metadata": {
        "colab": {
          "base_uri": "https://localhost:8080/"
        },
        "id": "XED99Wc7kwK7",
        "outputId": "0fe020ba-76c5-4df4-a184-fa69b6896f9e"
      },
      "execution_count": 61,
      "outputs": [
        {
          "output_type": "stream",
          "name": "stdout",
          "text": [
            " 1) square: \n",
            " 2) Triangle\n",
            "2\n",
            "base: 100\n",
            "hight: 58\n",
            "2900.0\n"
          ]
        }
      ]
    }
  ]
}