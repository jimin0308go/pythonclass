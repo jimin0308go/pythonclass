{
  "nbformat": 4,
  "nbformat_minor": 0,
  "metadata": {
    "colab": {
      "provenance": [],
      "authorship_tag": "ABX9TyNW5ev3i1n6OSTw3OgF6j8w",
      "include_colab_link": true
    },
    "kernelspec": {
      "name": "python3",
      "display_name": "Python 3"
    },
    "language_info": {
      "name": "python"
    }
  },
  "cells": [
    {
      "cell_type": "markdown",
      "metadata": {
        "id": "view-in-github",
        "colab_type": "text"
      },
      "source": [
        "<a href=\"https://colab.research.google.com/github/jimin0308go/pythonclass/blob/main/Untitled10.ipynb\" target=\"_parent\"><img src=\"https://colab.research.google.com/assets/colab-badge.svg\" alt=\"Open In Colab\"/></a>"
      ]
    },
    {
      "cell_type": "code",
      "execution_count": null,
      "metadata": {
        "id": "mBle5VE9FfSE"
      },
      "outputs": [],
      "source": [
        "#클래스는 객체를 표현하기 위한 문법\n",
        "#체크박스, 스크롤바 같은 특정한 개념이나 모양을 존재하는것을 객체\n",
        "#인스턴스명 = 클래스명"
      ]
    },
    {
      "cell_type": "code",
      "source": [
        "class Human :\n",
        "  pass"
      ],
      "metadata": {
        "id": "RHrmriSvY7sq"
      },
      "execution_count": null,
      "outputs": []
    },
    {
      "cell_type": "code",
      "source": [
        "class Human :\n",
        "  pass\n",
        "\n",
        "areum = Human()\n"
      ],
      "metadata": {
        "id": "4Knau1bgZGuZ"
      },
      "execution_count": null,
      "outputs": []
    },
    {
      "cell_type": "code",
      "source": [
        "class Human:\n",
        "  def _int_(self):\n",
        "    print(\"응애응애\")\n",
        "  \n",
        "areum = Human()"
      ],
      "metadata": {
        "id": "JApa4jGOZGsJ"
      },
      "execution_count": null,
      "outputs": []
    },
    {
      "cell_type": "code",
      "source": [
        "class Human:\n",
        "  def _int_(self,name,age,sex):\n",
        "    self.name=name\n",
        "    self.age=age\n",
        "    self.sex=sex\n",
        "\n",
        "areum = Human(\"아름\", 25, \"여자\")\n",
        "print(areum)"
      ],
      "metadata": {
        "colab": {
          "base_uri": "https://localhost:8080/",
          "height": 217
        },
        "id": "20wGClYuZGpz",
        "outputId": "7849ee00-a698-4e62-b7d7-8f56470054e3"
      },
      "execution_count": null,
      "outputs": [
        {
          "output_type": "error",
          "ename": "TypeError",
          "evalue": "ignored",
          "traceback": [
            "\u001b[0;31m---------------------------------------------------------------------------\u001b[0m",
            "\u001b[0;31mTypeError\u001b[0m                                 Traceback (most recent call last)",
            "\u001b[0;32m<ipython-input-5-c9287d5c6e45>\u001b[0m in \u001b[0;36m<module>\u001b[0;34m\u001b[0m\n\u001b[1;32m      5\u001b[0m     \u001b[0mself\u001b[0m\u001b[0;34m.\u001b[0m\u001b[0msex\u001b[0m\u001b[0;34m=\u001b[0m\u001b[0msex\u001b[0m\u001b[0;34m\u001b[0m\u001b[0;34m\u001b[0m\u001b[0m\n\u001b[1;32m      6\u001b[0m \u001b[0;34m\u001b[0m\u001b[0m\n\u001b[0;32m----> 7\u001b[0;31m \u001b[0mareum\u001b[0m \u001b[0;34m=\u001b[0m \u001b[0mHuman\u001b[0m\u001b[0;34m(\u001b[0m\u001b[0;34m\"아름\"\u001b[0m\u001b[0;34m,\u001b[0m \u001b[0;36m25\u001b[0m\u001b[0;34m,\u001b[0m \u001b[0;34m\"여자\"\u001b[0m\u001b[0;34m)\u001b[0m\u001b[0;34m\u001b[0m\u001b[0;34m\u001b[0m\u001b[0m\n\u001b[0m\u001b[1;32m      8\u001b[0m \u001b[0mprint\u001b[0m\u001b[0;34m(\u001b[0m\u001b[0mareum\u001b[0m\u001b[0;34m)\u001b[0m\u001b[0;34m\u001b[0m\u001b[0;34m\u001b[0m\u001b[0m\n",
            "\u001b[0;31mTypeError\u001b[0m: Human() takes no arguments"
          ]
        }
      ]
    },
    {
      "cell_type": "code",
      "source": [
        " # class Human:\n",
        "      #def _int_(self,name,age,sex):\n",
        "         #self.name=name\n",
        "         #self.age=age\n",
        "         #self.sex=sex\n",
        "\n",
        "  #areum = Human(\"아름\", 25, \"여자\")\n",
        "  #print(areum.age)\n",
        "class Human:\n",
        "    def __init__(self, name, age, sex):\n",
        "        self.name = name\n",
        "        self.age = age\n",
        "        self.sex = sex\n",
        "\n",
        "areum = Human(\"아름\", 25, \"여자\")\n",
        "print(areum.name)"
      ],
      "metadata": {
        "colab": {
          "base_uri": "https://localhost:8080/"
        },
        "id": "-v10j-AdZGm5",
        "outputId": "ba5ba5df-76f7-4240-e33a-334b5a0b1ec1"
      },
      "execution_count": null,
      "outputs": [
        {
          "output_type": "stream",
          "name": "stdout",
          "text": [
            "아름\n"
          ]
        }
      ]
    },
    {
      "cell_type": "code",
      "source": [
        "class Human:\n",
        "    def __init__(self, name, age, sex):\n",
        "        self.name = name\n",
        "        self.age = age\n",
        "        self.sex = sex\n",
        "\n",
        "areum = Human(\"아름\", 25, \"여자\")\n",
        "print(areum.age)"
      ],
      "metadata": {
        "colab": {
          "base_uri": "https://localhost:8080/"
        },
        "id": "pxU74ItPZGkR",
        "outputId": "43b63a07-3930-430f-9442-c995040a2c90"
      },
      "execution_count": null,
      "outputs": [
        {
          "output_type": "stream",
          "name": "stdout",
          "text": [
            "25\n"
          ]
        }
      ]
    },
    {
      "cell_type": "code",
      "source": [
        "# 정답 참고\n",
        "class Human:\n",
        "    def __init__(self, name, age, sex):\n",
        "        self.name = name\n",
        "        self.age = age\n",
        "        self.sex = sex\n",
        "\n",
        "    def who(self):\n",
        "        print(\"이름: {} 나이: {} 성별: {}\".format(self.name, self.age, self.sex))\n",
        "    \n",
        "    def setInfo(self, name, age, sex):\n",
        "        self.name = name\n",
        "        self.age = age\n",
        "        self.sex = sex\n",
        "\n",
        "areum = Human(\"불명\", \"미상\", \"모름\")\n",
        "areum.who()   \n",
        "\n",
        "areum = Human(\"아름\", 25, \"여자\")\n",
        "areum.who()   "
      ],
      "metadata": {
        "colab": {
          "base_uri": "https://localhost:8080/"
        },
        "id": "5d2UPwLjZGhp",
        "outputId": "476c5bdb-3c48-4665-ec3a-c208845cab79"
      },
      "execution_count": null,
      "outputs": [
        {
          "output_type": "stream",
          "name": "stdout",
          "text": [
            "이름: 불명 나이: 미상 성별: 모름\n",
            "이름: 아름 나이: 25 성별: 여자\n"
          ]
        }
      ]
    },
    {
      "cell_type": "code",
      "source": [
        "class Human:\n",
        "    def __init__(self, name, age, sex):\n",
        "        self.name = name\n",
        "        self.age = age\n",
        "        self.sex = sex\n",
        "\n",
        "    def __del__(self):\n",
        "        print(\"나의 죽음을 알리지마라\")\n",
        "\n",
        "    def who(self):\n",
        "        print(\"이름: {} 나이: {} 성별: {}\".format(self.name, self.age, self.sex))\n",
        "    \n",
        "    def setInfo(self, name, age, sex):\n",
        "        self.name = name\n",
        "        self.age = age\n",
        "        self.sex = sex\n",
        "\n",
        "\n",
        "areum = Human(\"아름\", 25, \"여자\")\n",
        "del(areum)\n"
      ],
      "metadata": {
        "colab": {
          "base_uri": "https://localhost:8080/"
        },
        "id": "dDsfc9uuZGfR",
        "outputId": "708e22df-19cf-4143-d244-cbc16c62062a"
      },
      "execution_count": null,
      "outputs": [
        {
          "output_type": "stream",
          "name": "stdout",
          "text": [
            "나의 죽음을 알리지마라\n"
          ]
        }
      ]
    },
    {
      "cell_type": "code",
      "source": [
        "class OMG :\n",
        "    def print() :\n",
        "        print(\"Oh my god\")\n",
        "\n",
        ">>> >>> myStock = OMG()\n",
        ">>> myStock.print()\n",
        "TypeError Traceback (most recent call last)\n",
        "<ipython-input-233-c85c04535b22>in <module>()\n",
        "----> myStock.print()\n",
        "\n",
        "TypeError: print() takes 0 positional arguments but 1 was given\n",
        "\n",
        "#마무리가 부족"
      ],
      "metadata": {
        "id": "k0cQxrAeZGch"
      },
      "execution_count": null,
      "outputs": []
    },
    {
      "cell_type": "code",
      "source": [
        "class Stock:\n",
        "    def __init__(self, name, code):\n",
        "      self.name = name\n",
        "      self.code = code\n",
        "\n",
        "삼성 = Stock(\"삼성전자\", \"005930\")\n",
        "print(삼성.name)\n",
        "print(삼성.code)"
      ],
      "metadata": {
        "id": "xt4horqaZGaC",
        "colab": {
          "base_uri": "https://localhost:8080/"
        },
        "outputId": "4500c1bc-068a-4d75-fa11-9b82b41902f8"
      },
      "execution_count": 1,
      "outputs": [
        {
          "output_type": "stream",
          "name": "stdout",
          "text": [
            "삼성전자\n",
            "005930\n"
          ]
        }
      ]
    },
    {
      "cell_type": "code",
      "source": [
        "class Stock:\n",
        "    def __init__(self, name, code):\n",
        "        self.name = name\n",
        "        self.code = code\n",
        "\n",
        "    def set_name(self, name):\n",
        "        self.name = name\n",
        "\n",
        "a = Stock(None, None)\n",
        "a.set_name(\"삼성전자\") \n",
        "print(a.name)"
      ],
      "metadata": {
        "id": "kGhKG1rcZGXh",
        "colab": {
          "base_uri": "https://localhost:8080/"
        },
        "outputId": "654adcbc-087e-4f89-b999-ec89a7bb5e86"
      },
      "execution_count": 2,
      "outputs": [
        {
          "output_type": "stream",
          "name": "stdout",
          "text": [
            "삼성전자\n"
          ]
        }
      ]
    },
    {
      "cell_type": "code",
      "source": [
        "class Stock:\n",
        "    def __init__(self, name, code):\n",
        "        self.name = name\n",
        "        self.code = code\n",
        "\n",
        "    def set_name(self, name):\n",
        "        self.name = name\n",
        "\n",
        "    def set_code(self, code):\n",
        "        self.code = code\n",
        "\n",
        "a = Stock(None, None)\n",
        "a.set_code(\"005930\") \n",
        "print(a.code)"
      ],
      "metadata": {
        "id": "gLQxvPR2ZGUp",
        "colab": {
          "base_uri": "https://localhost:8080/"
        },
        "outputId": "ecd5856e-807a-4669-c470-dfcc4820d5f1"
      },
      "execution_count": 3,
      "outputs": [
        {
          "output_type": "stream",
          "name": "stdout",
          "text": [
            "005930\n"
          ]
        }
      ]
    },
    {
      "cell_type": "code",
      "source": [
        "class Stock:\n",
        "    def __init__(self, name, code):\n",
        "        self.name = name\n",
        "        self.code = code\n",
        "\n",
        "    def set_name(self, name):\n",
        "        self.name = name\n",
        "\n",
        "    def set_code(self, code):\n",
        "        self.code = code\n",
        "\n",
        "    def get_name(self):\n",
        "        return self.name\n",
        "\n",
        "    def get_code(self):\n",
        "        return self.code\n",
        "\n",
        "삼성 = Stock(\"삼성전자\", \"005930\")\n",
        "\n",
        "a.set_code(\"005930\") \n",
        "\n",
        "print(삼성.name)\n",
        "\n",
        "print(삼성.code)\n",
        "\n",
        "print(삼성.get_name())\n",
        "\n",
        "print(삼성.get_code())"
      ],
      "metadata": {
        "id": "H2srx5dvZGSR",
        "colab": {
          "base_uri": "https://localhost:8080/"
        },
        "outputId": "4bdbe967-57b4-4b3a-a9df-2b8013f07bd6"
      },
      "execution_count": 4,
      "outputs": [
        {
          "output_type": "stream",
          "name": "stdout",
          "text": [
            "삼성전자\n",
            "005930\n",
            "삼성전자\n",
            "005930\n"
          ]
        }
      ]
    },
    {
      "cell_type": "code",
      "source": [
        "#268 도움이 필요한."
      ],
      "metadata": {
        "id": "7p8SYcD-ZGPx"
      },
      "execution_count": null,
      "outputs": []
    },
    {
      "cell_type": "code",
      "source": [
        "#269 도움이 필요한."
      ],
      "metadata": {
        "id": "VTYBWb7XZGNK"
      },
      "execution_count": null,
      "outputs": []
    },
    {
      "cell_type": "code",
      "source": [
        "#270 도움이 필요한."
      ],
      "metadata": {
        "id": "jC-VzdeFZGKi"
      },
      "execution_count": null,
      "outputs": []
    }
  ]
}