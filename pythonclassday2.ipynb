{
 "cells": [
  {
   "cell_type": "code",
   "execution_count": 46,
   "id": "58086943",
   "metadata": {},
   "outputs": [
    {
     "name": "stdout",
     "output_type": "stream",
     "text": [
      "hello world\n"
     ]
    }
   ],
   "source": [
    "print(\"hello world\")"
   ]
  },
  {
   "cell_type": "code",
   "execution_count": 16,
   "id": "01e33d8d",
   "metadata": {},
   "outputs": [
    {
     "name": "stdout",
     "output_type": "stream",
     "text": [
      "use taxi\n"
     ]
    }
   ],
   "source": [
    "money = True\n",
    "    \n",
    "if money == True:\n",
    "    print(\"use taxi\")\n",
    "else:\n",
    "    print(\"walk\")\n"
   ]
  },
  {
   "cell_type": "code",
   "execution_count": 14,
   "id": "a542e364",
   "metadata": {},
   "outputs": [
    {
     "name": "stdout",
     "output_type": "stream",
     "text": [
      "use bus\n"
     ]
    }
   ],
   "source": [
    "money = 2000\n",
    "\n",
    "if money >= 5000:\n",
    "    print(\"use taxi\")\n",
    "elif money >= 1000:\n",
    "    print(\"use bus\")\n",
    "else:\n",
    "    print(\"walk\")"
   ]
  },
  {
   "cell_type": "code",
   "execution_count": 29,
   "id": "74c9db62",
   "metadata": {},
   "outputs": [
    {
     "name": "stdout",
     "output_type": "stream",
     "text": [
      "grade E\n"
     ]
    }
   ],
   "source": [
    "grade = 50\n",
    "\n",
    "if grade >= 90:\n",
    "    print(\"grade A\")\n",
    "elif grade >= 80:\n",
    "    print(\"grade B\")\n",
    "elif grade >= 70:\n",
    "    print(\"grade C\")\n",
    "elif grade >= 60:\n",
    "    print(\"grade D\")\n",
    "else:\n",
    "    print(\"grade F\")"
   ]
  },
  {
   "cell_type": "code",
   "execution_count": 35,
   "id": "3f53f911",
   "metadata": {},
   "outputs": [
    {
     "name": "stdout",
     "output_type": "stream",
     "text": [
      "10\n",
      "9\n",
      "8\n",
      "7\n",
      "6\n",
      "5\n",
      "4\n",
      "3\n",
      "2\n",
      "1\n",
      "0\n"
     ]
    }
   ],
   "source": [
    "#while\n",
    "\n",
    "no = 10\n",
    "\n",
    "while no >= 0:\n",
    "    print(no)\n",
    "    no = no - 1"
   ]
  },
  {
   "cell_type": "code",
   "execution_count": 39,
   "id": "58a17305",
   "metadata": {},
   "outputs": [
    {
     "name": "stdout",
     "output_type": "stream",
     "text": [
      "1. 덧셈/ 2. 뺄셈 / 3, 곱셈/ 4, 너눗셈/ 5. 종료\n",
      "2\n",
      "1. 덧셈/ 2. 뺄셈 / 3, 곱셈/ 4, 너눗셈/ 5. 종료\n",
      "5\n"
     ]
    }
   ],
   "source": [
    "promot = \"1. 덧셈/ 2. 뺄셈 / 3, 곱셈/ 4, 너눗셈/ 5. 종료\"\n",
    "no = 0\n",
    "\n",
    "while no <= 4:    \n",
    "    print(promot)\n",
    "    no = int(input())\n",
    "    "
   ]
  },
  {
   "cell_type": "markdown",
   "id": "ef95b6ea",
   "metadata": {},
   "source": []
  },
  {
   "cell_type": "code",
   "execution_count": null,
   "id": "0138402b",
   "metadata": {},
   "outputs": [],
   "source": [
    "no = 0\n",
    "\n",
    "while True:\n",
    "    print(no)\n",
    "    no = no + 1\n",
    "    \n",
    "    if no > 10:\n",
    "        break"
   ]
  },
  {
   "cell_type": "code",
   "execution_count": null,
   "id": "648c6fea",
   "metadata": {},
   "outputs": [],
   "source": [
    "no = 0\n",
    "\n",
    "while True:\n",
    "    print(no)\n",
    "    no = no + 1\n",
    "    \n",
    "    if no > 10:\n",
    "        break"
   ]
  },
  {
   "cell_type": "code",
   "execution_count": 49,
   "id": "63c3e26f",
   "metadata": {},
   "outputs": [
    {
     "name": "stdout",
     "output_type": "stream",
     "text": [
      "0\n",
      "1\n",
      "2\n",
      "3\n",
      "4\n",
      "5\n",
      "6\n",
      "7\n",
      "8\n",
      "9\n",
      "10\n"
     ]
    }
   ],
   "source": [
    "no = 0\n",
    "\n",
    "while True:\n",
    "    print(no)\n",
    "    no = no + 1\n",
    "    \n",
    "    if no > 10:\n",
    "        break"
   ]
  },
  {
   "cell_type": "code",
   "execution_count": 77,
   "id": "1151b778",
   "metadata": {},
   "outputs": [
    {
     "name": "stdout",
     "output_type": "stream",
     "text": [
      "1683\n"
     ]
    }
   ],
   "source": [
    "no = 1\n",
    "sum = 0\n",
    "\n",
    "while no <= 100:  \n",
    "        no % 3 == 0\n",
    "        sum = sum + no\n",
    "        no = no + 3\n",
    "        \n",
    "    \n",
    "        if no > 100:\n",
    "            break\n",
    "        \n",
    "print(sum)"
   ]
  },
  {
   "cell_type": "code",
   "execution_count": 79,
   "id": "6febafa4",
   "metadata": {
    "scrolled": true
   },
   "outputs": [
    {
     "name": "stdout",
     "output_type": "stream",
     "text": [
      "1683\n"
     ]
    }
   ],
   "source": [
    "no = 1\n",
    "sum = 0\n",
    "\n",
    "while no <= 100:\n",
    "    if no % 3 == 0:\n",
    "        sum = sum + no\n",
    "        \n",
    "    no = no +1\n",
    "    \n",
    "print(sum)"
   ]
  },
  {
   "cell_type": "code",
   "execution_count": 80,
   "id": "68a5510e",
   "metadata": {},
   "outputs": [
    {
     "name": "stdout",
     "output_type": "stream",
     "text": [
      "1\n",
      "2\n",
      "3\n",
      "4\n",
      "5\n",
      "6\n",
      "7\n",
      "8\n",
      "9\n"
     ]
    }
   ],
   "source": [
    "for i in [1,2,3,4,5,6,7,8,9,10]:\n",
    "    print(i)"
   ]
  },
  {
   "cell_type": "code",
   "execution_count": 85,
   "id": "49029326",
   "metadata": {},
   "outputs": [
    {
     "name": "stdout",
     "output_type": "stream",
     "text": [
      "80 fail\n",
      "2 pass\n",
      "70 fail\n",
      "70 fail\n",
      "5 pass\n"
     ]
    }
   ],
   "source": [
    "math = [80,90,70,70,100]\n",
    "\n",
    "j = 1\n",
    "for i in math:\n",
    "    if i >= 90:\n",
    "        print(j, \"pass\")\n",
    "    else:\n",
    "        print(i, \"fail\")\n",
    "    j += 1"
   ]
  },
  {
   "cell_type": "code",
   "execution_count": 88,
   "id": "11266a4a",
   "metadata": {},
   "outputs": [
    {
     "name": "stdout",
     "output_type": "stream",
     "text": [
      "1\n",
      "3\n",
      "5\n",
      "7\n",
      "9\n"
     ]
    }
   ],
   "source": [
    "for i in [1,2,3,4,5,6,7,8,9,10]:\n",
    "    if i%2==0:\n",
    "        continue\n",
    "        \n",
    "        \n",
    "    print(i)"
   ]
  },
  {
   "cell_type": "code",
   "execution_count": 89,
   "id": "347f6e09",
   "metadata": {},
   "outputs": [
    {
     "name": "stdout",
     "output_type": "stream",
     "text": [
      "1\n",
      "2\n",
      "3\n",
      "4\n",
      "5\n",
      "6\n",
      "7\n",
      "8\n",
      "9\n",
      "10\n"
     ]
    }
   ],
   "source": [
    "#range 함수\n",
    "\n",
    "#숫자를 자동으로 생성해준다, for문과ㅓ 함께 사용되는 경우가 많다.\n",
    "\n",
    "for i in range(1,11):\n",
    "    print(i)"
   ]
  },
  {
   "cell_type": "code",
   "execution_count": 109,
   "id": "5943fedd",
   "metadata": {},
   "outputs": [
    {
     "name": "stdout",
     "output_type": "stream",
     "text": [
      "2 * 1 = 2\t3 * 1 = 3\t4 * 1 = 4\t5 * 1 = 5\t6 * 1 = 6\t7 * 1 = 7\t8 * 1 = 8\t9 * 1 = 9\t\n",
      "2 * 2 = 4\t3 * 2 = 6\t4 * 2 = 8\t5 * 2 = 10\t6 * 2 = 12\t7 * 2 = 14\t8 * 2 = 16\t9 * 2 = 18\t\n",
      "2 * 3 = 6\t3 * 3 = 9\t4 * 3 = 12\t5 * 3 = 15\t6 * 3 = 18\t7 * 3 = 21\t8 * 3 = 24\t9 * 3 = 27\t\n",
      "2 * 4 = 8\t3 * 4 = 12\t4 * 4 = 16\t5 * 4 = 20\t6 * 4 = 24\t7 * 4 = 28\t8 * 4 = 32\t9 * 4 = 36\t\n",
      "2 * 5 = 10\t3 * 5 = 15\t4 * 5 = 20\t5 * 5 = 25\t6 * 5 = 30\t7 * 5 = 35\t8 * 5 = 40\t9 * 5 = 45\t\n",
      "2 * 6 = 12\t3 * 6 = 18\t4 * 6 = 24\t5 * 6 = 30\t6 * 6 = 36\t7 * 6 = 42\t8 * 6 = 48\t9 * 6 = 54\t\n",
      "2 * 7 = 14\t3 * 7 = 21\t4 * 7 = 28\t5 * 7 = 35\t6 * 7 = 42\t7 * 7 = 49\t8 * 7 = 56\t9 * 7 = 63\t\n",
      "2 * 8 = 16\t3 * 8 = 24\t4 * 8 = 32\t5 * 8 = 40\t6 * 8 = 48\t7 * 8 = 56\t8 * 8 = 64\t9 * 8 = 72\t\n",
      "2 * 9 = 18\t3 * 9 = 27\t4 * 9 = 36\t5 * 9 = 45\t6 * 9 = 54\t7 * 9 = 63\t8 * 9 = 72\t9 * 9 = 81\t\n"
     ]
    }
   ],
   "source": [
    "#for 문으로 구구단 출력하기\n",
    "\n",
    "for i in range(1,10):\n",
    "    for j in range(2,10):\n",
    "        print(j, \"*\", i, \"=\", j*i, end=\"\\t\")\n",
    "    print()"
   ]
  },
  {
   "cell_type": "code",
   "execution_count": 136,
   "id": "4c7e42e2",
   "metadata": {},
   "outputs": [
    {
     "name": "stdout",
     "output_type": "stream",
     "text": [
      "0\n"
     ]
    }
   ],
   "source": [
    "for i in range(1, 101,2):\n",
    "    if i % 2 == 0:\n",
    "        sum = sum + i\n",
    "    \n",
    "print(sum)\n"
   ]
  },
  {
   "cell_type": "code",
   "execution_count": 130,
   "id": "30f5be29",
   "metadata": {},
   "outputs": [
    {
     "name": "stdout",
     "output_type": "stream",
     "text": [
      "0\n",
      "3\n",
      "6\n",
      "9\n"
     ]
    }
   ],
   "source": [
    "# range를 사용하여 100이하의 수중 짝수들만의 합계\n",
    "\n",
    "#range(start, stop, step)  start를 생략하면 0에서 시작, \n",
    "for i in range(0,11,3):\n",
    "    print(i)\n",
    "#stop을 생략하면 1씩 증가"
   ]
  },
  {
   "cell_type": "code",
   "execution_count": 139,
   "id": "510f75e4",
   "metadata": {},
   "outputs": [
    {
     "name": "stdout",
     "output_type": "stream",
     "text": [
      "[1, 2, 3, 4]\n",
      "[1, 2, 3, 4]\n",
      "[2, 4, 6, 8]\n",
      "[2, 4]\n"
     ]
    }
   ],
   "source": [
    "#리스트 축약/내포 list comprehension\n",
    "#리스트를 좀더 편리하고 직관적올 만드는 방법이다.\n",
    "\n",
    "list1 = [1,2,3,4]\n",
    "\n",
    "print(list1)\n",
    "\n",
    "list2 = [num             for num in list1]\n",
    "print(list2)\n",
    "\n",
    "list3 = [num*2            for num in list1]\n",
    "print(list3)\n",
    "\n",
    "list4 = [num            for num in list1 if num % 2 == 0]\n",
    "print(list4)"
   ]
  },
  {
   "cell_type": "code",
   "execution_count": 148,
   "id": "507050ff",
   "metadata": {},
   "outputs": [
    {
     "name": "stdout",
     "output_type": "stream",
     "text": [
      "pass\n"
     ]
    },
    {
     "data": {
      "text/plain": [
       "'pass'"
      ]
     },
     "execution_count": 148,
     "metadata": {},
     "output_type": "execute_result"
    }
   ],
   "source": [
    "grade = 90\n",
    "\n",
    "if grade >= 70:\n",
    "    print(\"pass\")\n",
    "else:\n",
    "    print(\"fail\")\n",
    "            \n",
    "\n",
    "\"pass\"       if grade>80   else \"fail\""
   ]
  },
  {
   "cell_type": "code",
   "execution_count": null,
   "id": "718c59e6",
   "metadata": {},
   "outputs": [],
   "source": []
  }
 ],
 "metadata": {
  "kernelspec": {
   "display_name": "Python 3 (ipykernel)",
   "language": "python",
   "name": "python3"
  },
  "language_info": {
   "codemirror_mode": {
    "name": "ipython",
    "version": 3
   },
   "file_extension": ".py",
   "mimetype": "text/x-python",
   "name": "python",
   "nbconvert_exporter": "python",
   "pygments_lexer": "ipython3",
   "version": "3.9.13"
  }
 },
 "nbformat": 4,
 "nbformat_minor": 5
}
