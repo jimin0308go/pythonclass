{
 "cells": [
  {
   "cell_type": "code",
   "execution_count": 46,
   "id": "58086943",
   "metadata": {},
   "outputs": [
    {
     "name": "stdout",
     "output_type": "stream",
     "text": [
      "hello world\n"
     ]
    }
   ],
   "source": [
    "print(\"hello world\")"
   ]
  },
  {
   "cell_type": "code",
   "execution_count": 16,
   "id": "01e33d8d",
   "metadata": {},
   "outputs": [
    {
     "name": "stdout",
     "output_type": "stream",
     "text": [
      "use taxi\n"
     ]
    }
   ],
   "source": [
    "money = True\n",
    "    \n",
    "if money == True:\n",
    "    print(\"use taxi\")\n",
    "else:\n",
    "    print(\"walk\")\n"
   ]
  },
  {
   "cell_type": "code",
   "execution_count": 14,
   "id": "a542e364",
   "metadata": {},
   "outputs": [
    {
     "name": "stdout",
     "output_type": "stream",
     "text": [
      "use bus\n"
     ]
    }
   ],
   "source": [
    "money = 2000\n",
    "\n",
    "if money >= 5000:\n",
    "    print(\"use taxi\")\n",
    "elif money >= 1000:\n",
    "    print(\"use bus\")\n",
    "else:\n",
    "    print(\"walk\")"
   ]
  },
  {
   "cell_type": "code",
   "execution_count": 29,
   "id": "74c9db62",
   "metadata": {},
   "outputs": [
    {
     "name": "stdout",
     "output_type": "stream",
     "text": [
      "grade E\n"
     ]
    }
   ],
   "source": [
    "grade = 50\n",
    "\n",
    "if grade >= 90:\n",
    "    print(\"grade A\")\n",
    "elif grade >= 80:\n",
    "    print(\"grade B\")\n",
    "elif grade >= 70:\n",
    "    print(\"grade C\")\n",
    "elif grade >= 60:\n",
    "    print(\"grade D\")\n",
    "else:\n",
    "    print(\"grade F\")"
   ]
  },
  {
   "cell_type": "code",
   "execution_count": 35,
   "id": "3f53f911",
   "metadata": {},
   "outputs": [
    {
     "name": "stdout",
     "output_type": "stream",
     "text": [
      "10\n",
      "9\n",
      "8\n",
      "7\n",
      "6\n",
      "5\n",
      "4\n",
      "3\n",
      "2\n",
      "1\n",
      "0\n"
     ]
    }
   ],
   "source": [
    "#while\n",
    "\n",
    "no = 10\n",
    "\n",
    "while no >= 0:\n",
    "    print(no)\n",
    "    no = no - 1"
   ]
  },
  {
   "cell_type": "code",
   "execution_count": 39,
   "id": "58a17305",
   "metadata": {},
   "outputs": [
    {
     "name": "stdout",
     "output_type": "stream",
     "text": [
      "1. 덧셈/ 2. 뺄셈 / 3, 곱셈/ 4, 너눗셈/ 5. 종료\n",
      "2\n",
      "1. 덧셈/ 2. 뺄셈 / 3, 곱셈/ 4, 너눗셈/ 5. 종료\n",
      "5\n"
     ]
    }
   ],
   "source": [
    "promot = \"1. 덧셈/ 2. 뺄셈 / 3, 곱셈/ 4, 너눗셈/ 5. 종료\"\n",
    "no = 0\n",
    "\n",
    "while no <= 4:    \n",
    "    print(promot)\n",
    "    no = int(input())\n",
    "    "
   ]
  },
  {
   "cell_type": "markdown",
   "id": "ef95b6ea",
   "metadata": {},
   "source": []
  },
  {
   "cell_type": "code",
   "execution_count": null,
   "id": "0138402b",
   "metadata": {},
   "outputs": [],
   "source": [
    "no = 0\n",
    "\n",
    "while True:\n",
    "    print(no)\n",
    "    no = no + 1\n",
    "    \n",
    "    if no > 10:\n",
    "        break"
   ]
  },
  {
   "cell_type": "code",
   "execution_count": null,
   "id": "648c6fea",
   "metadata": {},
   "outputs": [],
   "source": [
    "no = 0\n",
    "\n",
    "while True:\n",
    "    print(no)\n",
    "    no = no + 1\n",
    "    \n",
    "    if no > 10:\n",
    "        break"
   ]
  },
  {
   "cell_type": "code",
   "execution_count": 49,
   "id": "63c3e26f",
   "metadata": {},
   "outputs": [
    {
     "name": "stdout",
     "output_type": "stream",
     "text": [
      "0\n",
      "1\n",
      "2\n",
      "3\n",
      "4\n",
      "5\n",
      "6\n",
      "7\n",
      "8\n",
      "9\n",
      "10\n"
     ]
    }
   ],
   "source": [
    "no = 0\n",
    "\n",
    "while True:\n",
    "    print(no)\n",
    "    no = no + 1\n",
    "    \n",
    "    if no > 10:\n",
    "        break"
   ]
  },
  {
   "cell_type": "code",
   "execution_count": 77,
   "id": "44febb11",
   "metadata": {},
   "outputs": [
    {
     "name": "stdout",
     "output_type": "stream",
     "text": [
      "1683\n"
     ]
    }
   ],
   "source": [
    "no = 1\n",
    "sum = 0\n",
    "\n",
    "while no <= 100:  \n",
    "        no % 3 == 0\n",
    "        sum = sum + no\n",
    "        no = no + 3\n",
    "        \n",
    "    \n",
    "        if no > 100:\n",
    "            break\n",
    "        \n",
    "print(sum)"
   ]
  },
  {
   "cell_type": "code",
   "execution_count": 79,
   "id": "10b43dcb",
   "metadata": {
    "scrolled": true
   },
   "outputs": [
    {
     "name": "stdout",
     "output_type": "stream",
     "text": [
      "1683\n"
     ]
    }
   ],
   "source": [
    "no = 1\n",
    "sum = 0\n",
    "\n",
    "while no <= 100:\n",
    "    if no % 3 == 0:\n",
    "        sum = sum + no\n",
    "        \n",
    "    no = no +1\n",
    "    \n",
    "print(sum)"
   ]
  },
  {
   "cell_type": "code",
   "execution_count": 80,
   "id": "88130b16",
   "metadata": {},
   "outputs": [
    {
     "name": "stdout",
     "output_type": "stream",
     "text": [
      "1\n",
      "2\n",
      "3\n",
      "4\n",
      "5\n",
      "6\n",
      "7\n",
      "8\n",
      "9\n"
     ]
    }
   ],
   "source": [
    "for i in [1,2,3,4,5,6,7,8,9,10]:\n",
    "    print(i)"
   ]
  },
  {
   "cell_type": "code",
   "execution_count": 85,
   "id": "fe0cf0de",
   "metadata": {},
   "outputs": [
    {
     "name": "stdout",
     "output_type": "stream",
     "text": [
      "80 fail\n",
      "2 pass\n",
      "70 fail\n",
      "70 fail\n",
      "5 pass\n"
     ]
    }
   ],
   "source": [
    "math = [80,90,70,70,100]\n",
    "\n",
    "j = 1\n",
    "for i in math:\n",
    "    if i >= 90:\n",
    "        print(j, \"pass\")\n",
    "    else:\n",
    "        print(i, \"fail\")\n",
    "    j += 1"
   ]
  },
  {
   "cell_type": "code",
   "execution_count": 88,
   "id": "dded1375",
   "metadata": {},
   "outputs": [
    {
     "name": "stdout",
     "output_type": "stream",
     "text": [
      "1\n",
      "3\n",
      "5\n",
      "7\n",
      "9\n"
     ]
    }
   ],
   "source": [
    "for i in [1,2,3,4,5,6,7,8,9,10]:\n",
    "    if i%2==0:\n",
    "        continue\n",
    "        \n",
    "        \n",
    "    print(i)"
   ]
  },
  {
   "cell_type": "code",
   "execution_count": 89,
   "id": "d38e9603",
   "metadata": {},
   "outputs": [
    {
     "name": "stdout",
     "output_type": "stream",
     "text": [
      "1\n",
      "2\n",
      "3\n",
      "4\n",
      "5\n",
      "6\n",
      "7\n",
      "8\n",
      "9\n",
      "10\n"
     ]
    }
   ],
   "source": [
    "#range 함수\n",
    "\n",
    "#숫자를 자동으로 생성해준다, for문과ㅓ 함께 사용되는 경우가 많다.\n",
    "\n",
    "for i in range(1,11):\n",
    "    print(i)"
   ]
  },
  {
   "cell_type": "code",
   "execution_count": 109,
   "id": "1bcebfe5",
   "metadata": {},
   "outputs": [
    {
     "name": "stdout",
     "output_type": "stream",
     "text": [
      "2 * 1 = 2\t3 * 1 = 3\t4 * 1 = 4\t5 * 1 = 5\t6 * 1 = 6\t7 * 1 = 7\t8 * 1 = 8\t9 * 1 = 9\t\n",
      "2 * 2 = 4\t3 * 2 = 6\t4 * 2 = 8\t5 * 2 = 10\t6 * 2 = 12\t7 * 2 = 14\t8 * 2 = 16\t9 * 2 = 18\t\n",
      "2 * 3 = 6\t3 * 3 = 9\t4 * 3 = 12\t5 * 3 = 15\t6 * 3 = 18\t7 * 3 = 21\t8 * 3 = 24\t9 * 3 = 27\t\n",
      "2 * 4 = 8\t3 * 4 = 12\t4 * 4 = 16\t5 * 4 = 20\t6 * 4 = 24\t7 * 4 = 28\t8 * 4 = 32\t9 * 4 = 36\t\n",
      "2 * 5 = 10\t3 * 5 = 15\t4 * 5 = 20\t5 * 5 = 25\t6 * 5 = 30\t7 * 5 = 35\t8 * 5 = 40\t9 * 5 = 45\t\n",
      "2 * 6 = 12\t3 * 6 = 18\t4 * 6 = 24\t5 * 6 = 30\t6 * 6 = 36\t7 * 6 = 42\t8 * 6 = 48\t9 * 6 = 54\t\n",
      "2 * 7 = 14\t3 * 7 = 21\t4 * 7 = 28\t5 * 7 = 35\t6 * 7 = 42\t7 * 7 = 49\t8 * 7 = 56\t9 * 7 = 63\t\n",
      "2 * 8 = 16\t3 * 8 = 24\t4 * 8 = 32\t5 * 8 = 40\t6 * 8 = 48\t7 * 8 = 56\t8 * 8 = 64\t9 * 8 = 72\t\n",
      "2 * 9 = 18\t3 * 9 = 27\t4 * 9 = 36\t5 * 9 = 45\t6 * 9 = 54\t7 * 9 = 63\t8 * 9 = 72\t9 * 9 = 81\t\n"
     ]
    }
   ],
   "source": [
    "#for 문으로 구구단 출력하기\n",
    "\n",
    "for i in range(1,10):\n",
    "    for j in range(2,10):\n",
    "        print(j, \"*\", i, \"=\", j*i, end=\"\\t\")\n",
    "    print()"
   ]
  },
  {
   "cell_type": "code",
   "execution_count": 136,
   "id": "21c6d442",
   "metadata": {},
   "outputs": [
    {
     "name": "stdout",
     "output_type": "stream",
     "text": [
      "0\n"
     ]
    }
   ],
   "source": [
    "for i in range(1, 101,2):\n",
    "    if i % 2 == 0:\n",
    "        sum = sum + i\n",
    "    \n",
    "print(sum)\n"
   ]
  },
  {
   "cell_type": "code",
   "execution_count": 130,
   "id": "2ab8ef7e",
   "metadata": {},
   "outputs": [
    {
     "name": "stdout",
     "output_type": "stream",
     "text": [
      "0\n",
      "3\n",
      "6\n",
      "9\n"
     ]
    }
   ],
   "source": [
    "# range를 사용하여 100이하의 수중 짝수들만의 합계\n",
    "\n",
    "#range(start, stop, step)  start를 생략하면 0에서 시작, \n",
    "for i in range(0,11,3):\n",
    "    print(i)\n",
    "#stop을 생략하면 1씩 증가"
   ]
  },
  {
   "cell_type": "code",
   "execution_count": 139,
   "id": "e3366488",
   "metadata": {},
   "outputs": [
    {
     "name": "stdout",
     "output_type": "stream",
     "text": [
      "[1, 2, 3, 4]\n",
      "[1, 2, 3, 4]\n",
      "[2, 4, 6, 8]\n",
      "[2, 4]\n"
     ]
    }
   ],
   "source": [
    "#리스트 축약/내포 list comprehension\n",
    "#리스트를 좀더 편리하고 직관적올 만드는 방법이다.\n",
    "\n",
    "list1 = [1,2,3,4]\n",
    "\n",
    "print(list1)\n",
    "\n",
    "list2 = [num             for num in list1]\n",
    "print(list2)\n",
    "\n",
    "list3 = [num*2            for num in list1]\n",
    "print(list3)\n",
    "\n",
    "list4 = [num            for num in list1 if num % 2 == 0]\n",
    "print(list4)"
   ]
  },
  {
   "cell_type": "code",
   "execution_count": 148,
   "id": "fc96da95",
   "metadata": {},
   "outputs": [
    {
     "name": "stdout",
     "output_type": "stream",
     "text": [
      "pass\n"
     ]
    },
    {
     "data": {
      "text/plain": [
       "'pass'"
      ]
     },
     "execution_count": 148,
     "metadata": {},
     "output_type": "execute_result"
    }
   ],
   "source": [
    "grade = 90\n",
    "\n",
    "if grade >= 70:\n",
    "    print(\"pass\")\n",
    "else:\n",
    "    print(\"fail\")\n",
    "            \n",
    "\n",
    "\"pass\"       if grade>80   else \"fail\""
   ]
  },
  {
   "cell_type": "code",
   "execution_count": 161,
   "id": "b73a9bae",
   "metadata": {},
   "outputs": [
    {
     "name": "stdout",
     "output_type": "stream",
     "text": [
      "input number1: 10\n",
      "input number2: 15\n",
      "input number3: 20\n",
      "20\n"
     ]
    }
   ],
   "source": [
    "input1 = input(\"input number1: \")\n",
    "input2 = input(\"input number2: \")\n",
    "input3 = input(\"input number3: \")\n",
    "\n",
    "input1 = int(input1)\n",
    "input2 = int(input2)\n",
    "input3 = int(input3)\n",
    "    \n",
    "if input1 > input2 and input1 > input3:\n",
    "    print(list1)\n",
    "\n",
    "elif input2 > input1 and  input2 > input3:\n",
    "    print(input2)\n",
    "\n",
    "else:\n",
    "    print(input3)"
   ]
  },
  {
   "cell_type": "code",
   "execution_count": 185,
   "id": "3cadfca1",
   "metadata": {},
   "outputs": [
    {
     "name": "stdout",
     "output_type": "stream",
     "text": [
      "ID number: 128934-238918\n",
      "female\n"
     ]
    }
   ],
   "source": [
    "id = str(input(\"ID number: \"))\n",
    "number = id[7]\n",
    "\n",
    "if number == \"1\" and \"3\":\n",
    "    print(\"male\")\n",
    "\n",
    "elif number == \"2\" and \"4\":\n",
    "    print(\"female\")\n"
   ]
  },
  {
   "cell_type": "code",
   "execution_count": 190,
   "id": "9ad21c94",
   "metadata": {},
   "outputs": [
    {
     "name": "stdout",
     "output_type": "stream",
     "text": [
      "d\n",
      "c\n",
      "p\n"
     ]
    }
   ],
   "source": [
    "list1 = [\"dog\", \"cat\", \"parrot\"]\n",
    "\n",
    "for list1 in list1:\n",
    "    print(list1[0])"
   ]
  },
  {
   "cell_type": "code",
   "execution_count": 205,
   "id": "9b9f15aa",
   "metadata": {},
   "outputs": [
    {
     "name": "stdout",
     "output_type": "stream",
     "text": [
      "100\n",
      "190\n",
      "310\n"
     ]
    }
   ],
   "source": [
    "ohlc = [[\"open\", \"high\", \"low\", \"close\"],\n",
    "    [100, 110, 70, 100],\n",
    "    [200, 210, 180, 190],\n",
    "    [300, 310, 300, 310]]\n",
    "    \n",
    "for ohlc[0][3] in range(1,4):\n",
    "    \n",
    "    if "
   ]
  },
  {
   "cell_type": "code",
   "execution_count": 206,
   "id": "a0fcd2f4",
   "metadata": {},
   "outputs": [],
   "source": [
    "import requests #웹상에서 데이터를 가져올떄"
   ]
  },
  {
   "cell_type": "code",
   "execution_count": 210,
   "id": "202fc6d0",
   "metadata": {},
   "outputs": [
    {
     "ename": "SyntaxError",
     "evalue": "invalid syntax (349043060.py, line 1)",
     "output_type": "error",
     "traceback": [
      "\u001b[1;36m  File \u001b[1;32m\"C:\\Users\\EZEN\\AppData\\Local\\Temp\\ipykernel_2408\\349043060.py\"\u001b[1;36m, line \u001b[1;32m1\u001b[0m\n\u001b[1;33m    btc = request.get(https://coinone.co.kr/exchange/trade/btc/krw).json()['data']\u001b[0m\n\u001b[1;37m                           ^\u001b[0m\n\u001b[1;31mSyntaxError\u001b[0m\u001b[1;31m:\u001b[0m invalid syntax\n"
     ]
    }
   ],
   "source": [
    "btc = request.get(https://coinone.co.kr/exchange/trade/btc/krw).json()['data']\n",
    "print(btc)"
   ]
  },
  {
   "cell_type": "code",
   "execution_count": 220,
   "id": "16954ecf",
   "metadata": {},
   "outputs": [
    {
     "ename": "KeyboardInterrupt",
     "evalue": "Interrupted by user",
     "output_type": "error",
     "traceback": [
      "\u001b[1;31m---------------------------------------------------------------------------\u001b[0m",
      "\u001b[1;31mKeyboardInterrupt\u001b[0m                         Traceback (most recent call last)",
      "\u001b[1;32m~\\AppData\\Local\\Temp\\ipykernel_2408\\3370343222.py\u001b[0m in \u001b[0;36m<module>\u001b[1;34m\u001b[0m\n\u001b[1;32m----> 1\u001b[1;33m \u001b[0ma\u001b[0m \u001b[1;33m=\u001b[0m \u001b[0mint\u001b[0m\u001b[1;33m(\u001b[0m\u001b[0minput\u001b[0m\u001b[1;33m(\u001b[0m\u001b[1;34m\"number: \"\u001b[0m\u001b[1;33m)\u001b[0m\u001b[1;33m)\u001b[0m\u001b[1;33m\u001b[0m\u001b[1;33m\u001b[0m\u001b[0m\n\u001b[0m\u001b[0;32m      2\u001b[0m \u001b[1;33m\u001b[0m\u001b[0m\n\u001b[0;32m      3\u001b[0m \u001b[0mi\u001b[0m \u001b[1;33m=\u001b[0m \u001b[1;33m-\u001b[0m\u001b[1;36m1\u001b[0m\u001b[1;33m\u001b[0m\u001b[1;33m\u001b[0m\u001b[0m\n\u001b[0;32m      4\u001b[0m \u001b[1;32mwhile\u001b[0m\u001b[1;33m(\u001b[0m\u001b[0mi\u001b[0m\u001b[1;33m<=\u001b[0m \u001b[0ma\u001b[0m\u001b[1;33m)\u001b[0m\u001b[1;33m:\u001b[0m\u001b[1;33m\u001b[0m\u001b[1;33m\u001b[0m\u001b[0m\n\u001b[0;32m      5\u001b[0m     \u001b[0mprint\u001b[0m\u001b[1;33m(\u001b[0m\u001b[0mi\u001b[0m\u001b[1;33m*\u001b[0m\u001b[1;34m\"*\"\u001b[0m\u001b[1;33m)\u001b[0m\u001b[1;33m\u001b[0m\u001b[1;33m\u001b[0m\u001b[0m\n",
      "\u001b[1;32m~\\anaconda3\\lib\\site-packages\\ipykernel\\kernelbase.py\u001b[0m in \u001b[0;36mraw_input\u001b[1;34m(self, prompt)\u001b[0m\n\u001b[0;32m   1175\u001b[0m                 \u001b[1;34m\"raw_input was called, but this frontend does not support input requests.\"\u001b[0m\u001b[1;33m\u001b[0m\u001b[1;33m\u001b[0m\u001b[0m\n\u001b[0;32m   1176\u001b[0m             )\n\u001b[1;32m-> 1177\u001b[1;33m         return self._input_request(\n\u001b[0m\u001b[0;32m   1178\u001b[0m             \u001b[0mstr\u001b[0m\u001b[1;33m(\u001b[0m\u001b[0mprompt\u001b[0m\u001b[1;33m)\u001b[0m\u001b[1;33m,\u001b[0m\u001b[1;33m\u001b[0m\u001b[1;33m\u001b[0m\u001b[0m\n\u001b[0;32m   1179\u001b[0m             \u001b[0mself\u001b[0m\u001b[1;33m.\u001b[0m\u001b[0m_parent_ident\u001b[0m\u001b[1;33m[\u001b[0m\u001b[1;34m\"shell\"\u001b[0m\u001b[1;33m]\u001b[0m\u001b[1;33m,\u001b[0m\u001b[1;33m\u001b[0m\u001b[1;33m\u001b[0m\u001b[0m\n",
      "\u001b[1;32m~\\anaconda3\\lib\\site-packages\\ipykernel\\kernelbase.py\u001b[0m in \u001b[0;36m_input_request\u001b[1;34m(self, prompt, ident, parent, password)\u001b[0m\n\u001b[0;32m   1217\u001b[0m             \u001b[1;32mexcept\u001b[0m \u001b[0mKeyboardInterrupt\u001b[0m\u001b[1;33m:\u001b[0m\u001b[1;33m\u001b[0m\u001b[1;33m\u001b[0m\u001b[0m\n\u001b[0;32m   1218\u001b[0m                 \u001b[1;31m# re-raise KeyboardInterrupt, to truncate traceback\u001b[0m\u001b[1;33m\u001b[0m\u001b[1;33m\u001b[0m\u001b[0m\n\u001b[1;32m-> 1219\u001b[1;33m                 \u001b[1;32mraise\u001b[0m \u001b[0mKeyboardInterrupt\u001b[0m\u001b[1;33m(\u001b[0m\u001b[1;34m\"Interrupted by user\"\u001b[0m\u001b[1;33m)\u001b[0m \u001b[1;32mfrom\u001b[0m \u001b[1;32mNone\u001b[0m\u001b[1;33m\u001b[0m\u001b[1;33m\u001b[0m\u001b[0m\n\u001b[0m\u001b[0;32m   1220\u001b[0m             \u001b[1;32mexcept\u001b[0m \u001b[0mException\u001b[0m\u001b[1;33m:\u001b[0m\u001b[1;33m\u001b[0m\u001b[1;33m\u001b[0m\u001b[0m\n\u001b[0;32m   1221\u001b[0m                 \u001b[0mself\u001b[0m\u001b[1;33m.\u001b[0m\u001b[0mlog\u001b[0m\u001b[1;33m.\u001b[0m\u001b[0mwarning\u001b[0m\u001b[1;33m(\u001b[0m\u001b[1;34m\"Invalid Message:\"\u001b[0m\u001b[1;33m,\u001b[0m \u001b[0mexc_info\u001b[0m\u001b[1;33m=\u001b[0m\u001b[1;32mTrue\u001b[0m\u001b[1;33m)\u001b[0m\u001b[1;33m\u001b[0m\u001b[1;33m\u001b[0m\u001b[0m\n",
      "\u001b[1;31mKeyboardInterrupt\u001b[0m: Interrupted by user"
     ]
    }
   ],
   "source": [
    "a = int(input(\"number: \"))\n",
    "\n",
    "i = -1\n",
    "while(i<= a):\n",
    "    print(i*\"*\")\n",
    "    i += -1\n",
    "\n",
    "    \n",
    "    "
   ]
  },
  {
   "cell_type": "code",
   "execution_count": 260,
   "id": "130f4e8e",
   "metadata": {},
   "outputs": [
    {
     "name": "stdout",
     "output_type": "stream",
     "text": [
      "number: 21\n",
      "more than that\n",
      "number: 32\n",
      "more than that\n",
      "number: 43\n",
      "more than that\n",
      "number: 53\n",
      "more than that\n",
      "number: 63\n",
      "less than that\n",
      "number: 58\n",
      "less than that\n",
      "number: 57\n",
      "less than that\n",
      "number: 56\n",
      "less than that\n",
      "number: 55\n",
      "correct you tried 9 times\n",
      "answer is 55\n"
     ]
    }
   ],
   "source": [
    "a = int(input(\"number: \"))\n",
    "\n",
    "import random \n",
    "num= random.randrange(1,101)\n",
    "\n",
    "number = 0\n",
    "sum = 0\n",
    "while num != number:\n",
    "    sum += 1\n",
    "\n",
    "    number = a\n",
    "    \n",
    "    \n",
    "    if a > num:\n",
    "        print(\"less than that\")\n",
    "        a = int(input(\"number: \"))\n",
    "    elif a < num:\n",
    "        print(\"more than that\")\n",
    "        a = int(input(\"number: \"))\n",
    "\n",
    "    elif a == num:\n",
    "        print(\"correct you tried\", sum,\"times\")\n",
    "        print(\"answer is\",num)\n",
    "    "
   ]
  },
  {
   "cell_type": "markdown",
   "id": "c9c777ff",
   "metadata": {},
   "source": [
    "### import random num= random.randrange(1,101)\n",
    "\n",
    "print(numb)"
   ]
  },
  {
   "cell_type": "code",
   "execution_count": null,
   "id": "59bdc807",
   "metadata": {},
   "outputs": [],
   "source": []
  },
  {
   "cell_type": "code",
   "execution_count": null,
   "id": "572cc1ed",
   "metadata": {},
   "outputs": [],
   "source": [
    "34"
   ]
  }
 ],
 "metadata": {
  "kernelspec": {
   "display_name": "Python 3 (ipykernel)",
   "language": "python",
   "name": "python3"
  },
  "language_info": {
   "codemirror_mode": {
    "name": "ipython",
    "version": 3
   },
   "file_extension": ".py",
   "mimetype": "text/x-python",
   "name": "python",
   "nbconvert_exporter": "python",
   "pygments_lexer": "ipython3",
   "version": "3.9.13"
  }
 },
 "nbformat": 4,
 "nbformat_minor": 5
}
