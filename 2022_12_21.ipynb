{
  "nbformat": 4,
  "nbformat_minor": 0,
  "metadata": {
    "colab": {
      "provenance": [],
      "authorship_tag": "ABX9TyM04C6MatGwCgN4k/IEPtmJ",
      "include_colab_link": true
    },
    "kernelspec": {
      "name": "python3",
      "display_name": "Python 3"
    },
    "language_info": {
      "name": "python"
    }
  },
  "cells": [
    {
      "cell_type": "markdown",
      "metadata": {
        "id": "view-in-github",
        "colab_type": "text"
      },
      "source": [
        "<a href=\"https://colab.research.google.com/github/jimin0308go/pythonclass/blob/main/2022_12_21.ipynb\" target=\"_parent\"><img src=\"https://colab.research.google.com/assets/colab-badge.svg\" alt=\"Open In Colab\"/></a>"
      ]
    },
    {
      "cell_type": "code",
      "execution_count": null,
      "metadata": {
        "colab": {
          "base_uri": "https://localhost:8080/"
        },
        "id": "wGygG1W9Ekav",
        "outputId": "78913b6d-ef36-43b3-f22e-4cbd463363a1"
      },
      "outputs": [
        {
          "output_type": "stream",
          "name": "stdout",
          "text": [
            "we check in a patient named John Smith\n",
            "He is 20 years old.\n",
            "He is a new patient\n"
          ]
        }
      ],
      "source": [
        "name = \"John Smith\"\n",
        "age = \"20\"\n",
        "state = \"new patient\"\n",
        "\n",
        "print(\"we check in a patient named\", name)\n",
        "print(\"He is\", age, \"years old.\")\n",
        "print(\"He is a\", state)\n"
      ]
    },
    {
      "cell_type": "code",
      "source": [
        "birth_year = int(input(\"Enter your birth year: \"))\n",
        "age = 2022 - birth_year\n",
        "print(\"your age is\", age, \"years old\")\n",
        "\n",
        "int()\n",
        "float()\n",
        "bool()\n",
        "str()\n"
      ],
      "metadata": {
        "colab": {
          "base_uri": "https://localhost:8080/"
        },
        "id": "Qt90_nQWE-nW",
        "outputId": "d71610ef-5acc-49e6-b6a9-cfebbd85ff0e"
      },
      "execution_count": null,
      "outputs": [
        {
          "output_type": "stream",
          "name": "stdout",
          "text": [
            "Enter your birth year: 2003\n",
            "your age is 19 years old\n"
          ]
        }
      ]
    },
    {
      "cell_type": "code",
      "source": [
        "num1 = float(input(\"First: \"))\n",
        "num2 = int(input(\"Second: \"))\n",
        "print(\"sum: \", num1 + num2)"
      ],
      "metadata": {
        "colab": {
          "base_uri": "https://localhost:8080/"
        },
        "id": "BPBHRx3NF-pf",
        "outputId": "7a2475c8-69ff-4d48-c6f6-19ca6fc13dd5"
      },
      "execution_count": null,
      "outputs": [
        {
          "output_type": "stream",
          "name": "stdout",
          "text": [
            "First: 10.1\n",
            "Second: 20\n",
            "sum:  30.1\n"
          ]
        }
      ]
    },
    {
      "cell_type": "code",
      "source": [
        "course = 'Python for Beginners'\n",
        "print(course.upper())\n",
        "print(course.find(\"y\"))\n",
        "print(course.replace(\"for\", '4'))\n",
        "print('Python' in course)"
      ],
      "metadata": {
        "colab": {
          "base_uri": "https://localhost:8080/"
        },
        "id": "3bKYvNquGuks",
        "outputId": "ab6bc049-5041-475e-8259-085e8384660b"
      },
      "execution_count": null,
      "outputs": [
        {
          "output_type": "stream",
          "name": "stdout",
          "text": [
            "PYTHON FOR BEGINNERS\n",
            "1\n",
            "Python 4 Beginners\n",
            "True\n"
          ]
        }
      ]
    },
    {
      "cell_type": "code",
      "source": [
        ">\n",
        ">=\n",
        "<\n",
        "<=\n",
        "==\n",
        "!="
      ],
      "metadata": {
        "colab": {
          "base_uri": "https://localhost:8080/",
          "height": 130
        },
        "id": "aH0GBi__HdG2",
        "outputId": "f3402655-6897-44ec-9653-157bdb264cd9"
      },
      "execution_count": null,
      "outputs": [
        {
          "output_type": "error",
          "ename": "SyntaxError",
          "evalue": "ignored",
          "traceback": [
            "\u001b[0;36m  File \u001b[0;32m\"<ipython-input-13-58ac434cdece>\"\u001b[0;36m, line \u001b[0;32m1\u001b[0m\n\u001b[0;31m    >\u001b[0m\n\u001b[0m    ^\u001b[0m\n\u001b[0;31mSyntaxError\u001b[0m\u001b[0;31m:\u001b[0m invalid syntax\n"
          ]
        }
      ]
    },
    {
      "cell_type": "code",
      "source": [
        "price = 25\n",
        "print(price > 10 and price < 30)\n",
        "\n",
        "print(price > 10 or price < 30)\n",
        "\n",
        "print(not price < 10)"
      ],
      "metadata": {
        "colab": {
          "base_uri": "https://localhost:8080/"
        },
        "id": "EDCUhj62H77U",
        "outputId": "12737814-9143-4105-a4d4-a2713d555f9c"
      },
      "execution_count": null,
      "outputs": [
        {
          "output_type": "stream",
          "name": "stdout",
          "text": [
            "True\n",
            "True\n",
            "True\n"
          ]
        }
      ]
    },
    {
      "cell_type": "code",
      "source": [
        "temperature = 35\n",
        "\n",
        "if temperature > 30: \n",
        "  print(\"it's a hot day.\")\n",
        "  print(\"Drink plenty of water\")\n",
        "\n",
        "elif temperature > 20: \n",
        "  print(\"it's a nice day\")\n",
        "\n",
        "elif temperature > 20: \n",
        "  print(\"it's a bit cold\")\n",
        "else:\n",
        "  print(\"It's cold\")\n",
        "  \n",
        "print(\"done\")"
      ],
      "metadata": {
        "colab": {
          "base_uri": "https://localhost:8080/"
        },
        "id": "kNPpZD94MF62",
        "outputId": "3ee0d36d-6944-4139-faf7-21e6164a2aa5"
      },
      "execution_count": null,
      "outputs": [
        {
          "output_type": "stream",
          "name": "stdout",
          "text": [
            "it's a hot day.\n"
          ]
        }
      ]
    },
    {
      "cell_type": "code",
      "source": [],
      "metadata": {
        "id": "2PRnNG18PRIl"
      },
      "execution_count": null,
      "outputs": []
    },
    {
      "cell_type": "code",
      "source": [
        "num = int(input(\"Weight: \"))\n",
        "num2 = str(input(\"(K)g or (L)bs: \"))\n",
        "\n",
        "if num2 == \"K\":\n",
        "  print(\"Weight in Lbs:\", num/0.45)\n",
        "\n",
        "else:\n",
        "  print(\"Weight in Kg:\", num*0.45)"
      ],
      "metadata": {
        "colab": {
          "base_uri": "https://localhost:8080/"
        },
        "id": "lkOgk3QaOcY1",
        "outputId": "8ccb0a60-79da-4e8d-c756-a52e078e9b1f"
      },
      "execution_count": null,
      "outputs": [
        {
          "output_type": "stream",
          "name": "stdout",
          "text": [
            "Weight: 170\n",
            "(K)g or (L)bs: l\n",
            "Weight in Kg: 76.5\n"
          ]
        }
      ]
    },
    {
      "cell_type": "code",
      "source": [
        "i = 1\n",
        "while i <= 100:\n",
        "  print(i *'*')\n",
        "  i = i + 1\n"
      ],
      "metadata": {
        "id": "kfoPP89sQnMe",
        "colab": {
          "base_uri": "https://localhost:8080/"
        },
        "outputId": "27cd664f-9e44-408d-a65e-11f7de2c5347"
      },
      "execution_count": 3,
      "outputs": [
        {
          "output_type": "stream",
          "name": "stdout",
          "text": [
            "*\n",
            "**\n",
            "***\n",
            "****\n",
            "*****\n",
            "******\n",
            "*******\n",
            "********\n",
            "*********\n",
            "**********\n",
            "***********\n",
            "************\n",
            "*************\n",
            "**************\n",
            "***************\n",
            "****************\n",
            "*****************\n",
            "******************\n",
            "*******************\n",
            "********************\n",
            "*********************\n",
            "**********************\n",
            "***********************\n",
            "************************\n",
            "*************************\n",
            "**************************\n",
            "***************************\n",
            "****************************\n",
            "*****************************\n",
            "******************************\n",
            "*******************************\n",
            "********************************\n",
            "*********************************\n",
            "**********************************\n",
            "***********************************\n",
            "************************************\n",
            "*************************************\n",
            "**************************************\n",
            "***************************************\n",
            "****************************************\n",
            "*****************************************\n",
            "******************************************\n",
            "*******************************************\n",
            "********************************************\n",
            "*********************************************\n",
            "**********************************************\n",
            "***********************************************\n",
            "************************************************\n",
            "*************************************************\n",
            "**************************************************\n",
            "***************************************************\n",
            "****************************************************\n",
            "*****************************************************\n",
            "******************************************************\n",
            "*******************************************************\n",
            "********************************************************\n",
            "*********************************************************\n",
            "**********************************************************\n",
            "***********************************************************\n",
            "************************************************************\n",
            "*************************************************************\n",
            "**************************************************************\n",
            "***************************************************************\n",
            "****************************************************************\n",
            "*****************************************************************\n",
            "******************************************************************\n",
            "*******************************************************************\n",
            "********************************************************************\n",
            "*********************************************************************\n",
            "**********************************************************************\n",
            "***********************************************************************\n",
            "************************************************************************\n",
            "*************************************************************************\n",
            "**************************************************************************\n",
            "***************************************************************************\n",
            "****************************************************************************\n",
            "*****************************************************************************\n",
            "******************************************************************************\n",
            "*******************************************************************************\n",
            "********************************************************************************\n",
            "*********************************************************************************\n",
            "**********************************************************************************\n",
            "***********************************************************************************\n",
            "************************************************************************************\n",
            "*************************************************************************************\n",
            "**************************************************************************************\n",
            "***************************************************************************************\n",
            "****************************************************************************************\n",
            "*****************************************************************************************\n",
            "******************************************************************************************\n",
            "*******************************************************************************************\n",
            "********************************************************************************************\n",
            "*********************************************************************************************\n",
            "**********************************************************************************************\n",
            "***********************************************************************************************\n",
            "************************************************************************************************\n",
            "*************************************************************************************************\n",
            "**************************************************************************************************\n",
            "***************************************************************************************************\n",
            "****************************************************************************************************\n"
          ]
        }
      ]
    },
    {
      "cell_type": "code",
      "source": [
        "names = [\"John\",\"bob\",\"mosh\", \"sam\",\"mary\"]\n",
        "names[0] = \"Jon\"\n",
        "print(names[0:3])"
      ],
      "metadata": {
        "colab": {
          "base_uri": "https://localhost:8080/"
        },
        "id": "WIIreB6zWOdQ",
        "outputId": "76bc0501-c604-496d-eac3-1d21cfa9a3b8"
      },
      "execution_count": 8,
      "outputs": [
        {
          "output_type": "stream",
          "name": "stdout",
          "text": [
            "['Jon', 'bob', 'mosh']\n"
          ]
        }
      ]
    },
    {
      "cell_type": "code",
      "source": [
        "numbers = [1,2,3,4,5]\n",
        "numbers.insert(0, -1)\n",
        "remove\n",
        "clear\n",
        "\n",
        "print(numbers)"
      ],
      "metadata": {
        "colab": {
          "base_uri": "https://localhost:8080/"
        },
        "id": "ueMNX_unWOag",
        "outputId": "1c6bb3de-ac35-45ba-fd4b-e126756e75b3"
      },
      "execution_count": 12,
      "outputs": [
        {
          "output_type": "stream",
          "name": "stdout",
          "text": [
            "[-1, 1, 2, 3, 4, 5]\n"
          ]
        }
      ]
    },
    {
      "cell_type": "code",
      "source": [
        "numbers = [1,2,3,4,5]\n",
        "print(1 in numbers)\n",
        "print(len(numbers))"
      ],
      "metadata": {
        "colab": {
          "base_uri": "https://localhost:8080/"
        },
        "id": "aEHXUDygWOUh",
        "outputId": "1b7e7b73-9aa9-4a0c-9ae6-8a8fde3a02ee"
      },
      "execution_count": 14,
      "outputs": [
        {
          "output_type": "stream",
          "name": "stdout",
          "text": [
            "True\n",
            "5\n"
          ]
        }
      ]
    },
    {
      "cell_type": "code",
      "source": [
        "numbers = [1,2,3,4,5]\n",
        "for item in numbers:\n",
        "  print(item)\n",
        "\n",
        "i = 0\n",
        "while i <len(numbers):\n",
        "  print(numbers[i])\n",
        "  i = i+1"
      ],
      "metadata": {
        "colab": {
          "base_uri": "https://localhost:8080/"
        },
        "id": "sF4YAZ1iXmp4",
        "outputId": "6fef6724-c2e9-40bb-ca10-f17f14bda510"
      },
      "execution_count": 20,
      "outputs": [
        {
          "output_type": "stream",
          "name": "stdout",
          "text": [
            "1\n",
            "2\n",
            "3\n",
            "4\n",
            "5\n",
            "1\n",
            "2\n",
            "3\n",
            "4\n",
            "5\n"
          ]
        }
      ]
    },
    {
      "cell_type": "code",
      "source": [
        "numbers = range(5, 10, 2)\n",
        "\n",
        "for number in range(5):\n",
        "  print(number)"
      ],
      "metadata": {
        "colab": {
          "base_uri": "https://localhost:8080/"
        },
        "id": "EC7IfEboYBDp",
        "outputId": "16ce6069-3ad6-4d42-9016-ff8a23114edc"
      },
      "execution_count": 25,
      "outputs": [
        {
          "output_type": "stream",
          "name": "stdout",
          "text": [
            "0\n",
            "1\n",
            "2\n",
            "3\n",
            "4\n"
          ]
        }
      ]
    },
    {
      "cell_type": "code",
      "source": [
        "numbers = (1,2,3, 3)\n",
        "numbers."
      ],
      "metadata": {
        "id": "y4fbl2ivYrsy"
      },
      "execution_count": null,
      "outputs": []
    }
  ]
}