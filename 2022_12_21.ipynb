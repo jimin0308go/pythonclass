{
  "nbformat": 4,
  "nbformat_minor": 0,
  "metadata": {
    "colab": {
      "provenance": [],
      "authorship_tag": "ABX9TyN0e2uA/HQ179fukcv3iKCz",
      "include_colab_link": true
    },
    "kernelspec": {
      "name": "python3",
      "display_name": "Python 3"
    },
    "language_info": {
      "name": "python"
    }
  },
  "cells": [
    {
      "cell_type": "markdown",
      "metadata": {
        "id": "view-in-github",
        "colab_type": "text"
      },
      "source": [
        "<a href=\"https://colab.research.google.com/github/jimin0308go/pythonclass/blob/main/2022_12_21.ipynb\" target=\"_parent\"><img src=\"https://colab.research.google.com/assets/colab-badge.svg\" alt=\"Open In Colab\"/></a>"
      ]
    },
    {
      "cell_type": "code",
      "execution_count": 2,
      "metadata": {
        "colab": {
          "base_uri": "https://localhost:8080/"
        },
        "id": "wGygG1W9Ekav",
        "outputId": "78913b6d-ef36-43b3-f22e-4cbd463363a1"
      },
      "outputs": [
        {
          "output_type": "stream",
          "name": "stdout",
          "text": [
            "we check in a patient named John Smith\n",
            "He is 20 years old.\n",
            "He is a new patient\n"
          ]
        }
      ],
      "source": [
        "name = \"John Smith\"\n",
        "age = \"20\"\n",
        "state = \"new patient\"\n",
        "\n",
        "print(\"we check in a patient named\", name)\n",
        "print(\"He is\", age, \"years old.\")\n",
        "print(\"He is a\", state)\n"
      ]
    },
    {
      "cell_type": "code",
      "source": [
        "birth_year = int(input(\"Enter your birth year: \"))\n",
        "age = 2022 - birth_year\n",
        "print(\"your age is\", age, \"years old\")\n",
        "\n",
        "int()\n",
        "float()\n",
        "bool()\n",
        "str()\n"
      ],
      "metadata": {
        "colab": {
          "base_uri": "https://localhost:8080/"
        },
        "id": "Qt90_nQWE-nW",
        "outputId": "d71610ef-5acc-49e6-b6a9-cfebbd85ff0e"
      },
      "execution_count": 6,
      "outputs": [
        {
          "output_type": "stream",
          "name": "stdout",
          "text": [
            "Enter your birth year: 2003\n",
            "your age is 19 years old\n"
          ]
        }
      ]
    },
    {
      "cell_type": "code",
      "source": [
        "num1 = float(input(\"First: \"))\n",
        "num2 = int(input(\"Second: \"))\n",
        "print(\"sum: \", num1 + num2)"
      ],
      "metadata": {
        "colab": {
          "base_uri": "https://localhost:8080/"
        },
        "id": "BPBHRx3NF-pf",
        "outputId": "7a2475c8-69ff-4d48-c6f6-19ca6fc13dd5"
      },
      "execution_count": 7,
      "outputs": [
        {
          "output_type": "stream",
          "name": "stdout",
          "text": [
            "First: 10.1\n",
            "Second: 20\n",
            "sum:  30.1\n"
          ]
        }
      ]
    }
  ]
}