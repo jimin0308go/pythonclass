{
 "cells": [
  {
   "cell_type": "code",
   "execution_count": null,
   "metadata": {},
   "outputs": [],
   "source": [
    "print(\"hello world!\")"
   ]
  },
  {
   "cell_type": "code",
   "execution_count": null,
   "metadata": {},
   "outputs": [],
   "source": []
  },
  {
   "cell_type": "code",
   "execution_count": 1,
   "metadata": {},
   "outputs": [
    {
     "name": "stdout",
     "output_type": "stream",
     "text": [
      "hello\n"
     ]
    }
   ],
   "source": [
    "def say():\n",
    "    print(\"hello\")\n",
    "\n",
    "say()\n"
   ]
  },
  {
   "cell_type": "code",
   "execution_count": null,
   "metadata": {},
   "outputs": [],
   "source": [
    "def inputonly(name):\n",
    "    print(name, \"님 환영합니다.\")\n",
    "\n",
    "inputonly(\"홍길동\")\n"
   ]
  },
  {
   "cell_type": "code",
   "execution_count": null,
   "metadata": {},
   "outputs": [],
   "source": [
    "def outputonly():\n",
    "    return\"hello world\""
   ]
  },
  {
   "cell_type": "code",
   "execution_count": 3,
   "metadata": {},
   "outputs": [
    {
     "name": "stdout",
     "output_type": "stream",
     "text": [
      "3\n",
      "6\n"
     ]
    }
   ],
   "source": [
    "def sumfunction1(a,b):\n",
    "    return a+b\n",
    "\n",
    "print(sumfunction1(1,2))\n",
    "\n",
    "def sumfunction2(a,b,c):\n",
    "    return a+b+c\n",
    "\n",
    "print(sumfunction2(1,2,3))\n"
   ]
  },
  {
   "cell_type": "code",
   "execution_count": 4,
   "metadata": {},
   "outputs": [
    {
     "name": "stdout",
     "output_type": "stream",
     "text": [
      "3\n",
      "6\n"
     ]
    }
   ],
   "source": [
    "#함수 \n",
    "def sumfunction(*args): #args 여러개 변수명 3개가 될수도 있고 5개가 될수도 있다.\n",
    "    result = 0\n",
    "    for i in args:\n",
    "        result = result + i\n",
    "    return result\n",
    "\n",
    "print(sumfunction(1,2))\n",
    "print(sumfunction(1,2,3))\n",
    "\n"
   ]
  },
  {
   "cell_type": "code",
   "execution_count": 6,
   "metadata": {},
   "outputs": [
    {
     "name": "stdout",
     "output_type": "stream",
     "text": [
      "(5, 6, 0.6666666666666666)\n"
     ]
    }
   ],
   "source": [
    "# 함수의 결과 값은 언제나 '하나'라는 특징\n",
    "\n",
    "def add_mul(a,b):\n",
    "    return a+b, a*b\n",
    "\n",
    "print(add_mul(2,3))\n",
    "\n",
    "res1, res2 = add_mul()\n",
    "\n",
    "print(res2)"
   ]
  },
  {
   "cell_type": "code",
   "execution_count": 8,
   "metadata": {},
   "outputs": [
    {
     "name": "stdout",
     "output_type": "stream",
     "text": [
      "5\n"
     ]
    }
   ],
   "source": [
    "def add_mul(a,b):\n",
    "    return a+b\n",
    "    return a*b   #곱하기 결과는 1 수행되지 않는다.\n",
    "                #return을 만나면 함수에서 나간다는 특징이 있다.\n",
    "\n",
    "res = add_mul(2,3)\n",
    "print(res)"
   ]
  },
  {
   "cell_type": "code",
   "execution_count": 9,
   "metadata": {},
   "outputs": [
    {
     "name": "stdout",
     "output_type": "stream",
     "text": [
      "hello nick\n",
      "hello jane\n"
     ]
    }
   ],
   "source": [
    "#return의 마지막 특징\n",
    "\n",
    "def sayhello(name):\n",
    "    if name == \"austin\":\n",
    "        return\n",
    "    print(\"hello\", name)\n",
    "\n",
    "\n",
    "sayhello(\"nick\")\n",
    "sayhello(\"austin\")\n",
    "sayhello(\"jane\")"
   ]
  },
  {
   "cell_type": "code",
   "execution_count": 11,
   "metadata": {},
   "outputs": [
    {
     "name": "stdout",
     "output_type": "stream",
     "text": [
      "내 이름은 홍길동 이고 나이는 21 이며 남성입니다\n",
      "내 이름은 이몽룡 이고 나이는 14 이며 남성입니다\n",
      "내 이름은 성춘향 이고 나이는 13 이며 여성입니다.\n"
     ]
    }
   ],
   "source": [
    "def sayname(name, age, man=True):\n",
    "    print(\"내 이름은\", name, \"이고 나이는\", age, \"이며\", end=\" \")\n",
    "    if man:\n",
    "        print(\"남성입니다\")\n",
    "    else:\n",
    "        print(\"여성입니다.\")\n",
    "\n",
    "sayname(\"홍길동\", 21)\n",
    "sayname(\"이몽룡\", 14, True)\n",
    "sayname(\"성춘향\", 13, False)"
   ]
  },
  {
   "cell_type": "code",
   "execution_count": null,
   "metadata": {},
   "outputs": [],
   "source": [
    "def sayname(name, age, man=True):\n",
    "    print(f\"내 이름은 {}이고 나이는 {}이며\", end=\" \")\n",
    "    if man:\n",
    "        print(\"남성입니다\")\n",
    "    else:\n",
    "        print(\"여성입니다.\")\n",
    "\n",
    "sayname(\"홍길동\", 21)\n",
    "sayname(\"이몽룡\", 14, True)\n",
    "sayname(\"성춘향\", 13, False)"
   ]
  },
  {
   "cell_type": "code",
   "execution_count": 13,
   "metadata": {},
   "outputs": [
    {
     "name": "stdout",
     "output_type": "stream",
     "text": [
      "나의 이름은 홍길동이고 나이는 18입니다.\n"
     ]
    }
   ],
   "source": [
    "name = \"홍길동\"\n",
    " \n",
    "age = 18\n",
    "print(f\"나의 이름은 {name}이고 나이는 {age}입니다.\")\n",
    "\n",
    "print(\"나의 이름은 %s이고 나이는 %s입니다\" %name, age)\n"
   ]
  },
  {
   "cell_type": "code",
   "execution_count": 48,
   "metadata": {},
   "outputs": [
    {
     "name": "stdout",
     "output_type": "stream",
     "text": [
      "1\n"
     ]
    }
   ],
   "source": [
    "#함수 안에서의 변수 영향 범위 - 전역변수/지역변수 global/local variable -> local이 더 좋다\n",
    "\n",
    "a = 1\n",
    "def varexam(a):\n",
    "    a += 1     #함수 안에서의 변수값은 함수 밖에는 전혀 영향을 미치지 않는다.\n",
    "\n",
    "varexam(a)\n",
    "print(a)"
   ]
  },
  {
   "cell_type": "code",
   "execution_count": 61,
   "metadata": {},
   "outputs": [
    {
     "name": "stdout",
     "output_type": "stream",
     "text": [
      "2\n"
     ]
    }
   ],
   "source": [
    "a = 1\n",
    "def varexam():\n",
    "   global a    # a 변수 a를 함수 안에서 선언하면 전역 변수가 된다.\n",
    "   a = a + 1\n",
    "\n",
    "\n",
    "\n",
    "varexam()\n",
    "print(a)"
   ]
  },
  {
   "cell_type": "code",
   "execution_count": 71,
   "metadata": {},
   "outputs": [
    {
     "ename": "SyntaxError",
     "evalue": "invalid syntax (2456046877.py, line 6)",
     "output_type": "error",
     "traceback": [
      "\u001b[1;36m  Cell \u001b[1;32mIn [71], line 6\u001b[1;36m\u001b[0m\n\u001b[1;33m    if isodd().True:\u001b[0m\n\u001b[1;37m               ^\u001b[0m\n\u001b[1;31mSyntaxError\u001b[0m\u001b[1;31m:\u001b[0m invalid syntax\n"
     ]
    }
   ],
   "source": [
    "a = int(a)\n",
    "def isodd(a):\n",
    "    a = a//2==0\n",
    "\n",
    "\n",
    "if isodd().True:\n",
    "    print(\"false\")\n",
    "\n",
    "else:\n",
    "    print(\"True\")"
   ]
  },
  {
   "cell_type": "code",
   "execution_count": 76,
   "metadata": {},
   "outputs": [
    {
     "name": "stdout",
     "output_type": "stream",
     "text": [
      "홀수 입니다.\n",
      "짝수입니다.\n"
     ]
    }
   ],
   "source": [
    "def isodd(no):\n",
    "    if no % 2 == 0:\n",
    "        print(\"짝수입니다.\")\n",
    "    else:\n",
    "        print(\"홀수 입니다.\")\n",
    "\n",
    "isodd(3)\n",
    "isodd(4)"
   ]
  },
  {
   "cell_type": "code",
   "execution_count": 167,
   "metadata": {},
   "outputs": [
    {
     "name": "stdout",
     "output_type": "stream",
     "text": [
      "2.0\n",
      "3.0\n"
     ]
    }
   ],
   "source": [
    "def avgnum(*args):\n",
    "    result = 0\n",
    "    for i in args:\n",
    "        result = result + i\n",
    "        i = result/len(args)\n",
    "    return i\n",
    "\n",
    "\n",
    "\n",
    "print(avgnum(1,2,3))\n",
    "print(avgnum(1,2,3,4,5))"
   ]
  },
  {
   "cell_type": "code",
   "execution_count": 168,
   "metadata": {},
   "outputs": [],
   "source": [
    "\n",
    "\n",
    "f = open(\"newfile2.txt\", \"w\")   # 새 파일 만들기\n",
    "for i in range(1,11):           # 파일에 여러 데이터 넣기\n",
    "    data = i , \"번째 줄입니다.\"\n",
    "    f.write(data)\n",
    "\n",
    "f.close()                       # 파일 닫기\n"
   ]
  },
  {
   "cell_type": "code",
   "execution_count": null,
   "metadata": {},
   "outputs": [],
   "source": [
    "f = open(\"newfile2.txt\", \"r\")\n",
    "\n",
    "while True:\n",
    "    line = f.readline()\n",
    "    if not line: break\n",
    "    print(line)\n",
    "\n",
    "f.close()\n"
   ]
  },
  {
   "cell_type": "code",
   "execution_count": 170,
   "metadata": {},
   "outputs": [
    {
     "name": "stdout",
     "output_type": "stream",
     "text": [
      "3\n",
      "5\n",
      "1\n",
      "3\n"
     ]
    }
   ],
   "source": [
    "result1 = 0\n",
    "result2 = 0\n",
    "\n",
    "def add1(num):\n",
    "    global result1\n",
    "    result1 += num\n",
    "    return result1\n",
    "\n",
    "def add2(num):\n",
    "    global result2\n",
    "    result2 += num\n",
    "    return result2\n",
    "\n",
    "print(add1(3))\n",
    "print(add1(2))\n",
    "print(add2(1))\n",
    "print(add2(2))"
   ]
  },
  {
   "cell_type": "code",
   "execution_count": 177,
   "metadata": {},
   "outputs": [
    {
     "name": "stdout",
     "output_type": "stream",
     "text": [
      "3\n",
      "5\n",
      "\n",
      "1\n",
      "3\n",
      "\n",
      "1\n",
      "3\n",
      "6\n"
     ]
    }
   ],
   "source": [
    "class Cal:\n",
    "\n",
    "    def __init__(self):  # 생성자\n",
    "        self.result = 0\n",
    "\n",
    "    def add(self,num):   # 매서드 (함수가 아닌 매서드)\n",
    "        self.result += num\n",
    "        return self.result\n",
    "\n",
    "cal1 = Cal()\n",
    "cal2 = Cal()\n",
    "cal3 = Cal()\n",
    "\n",
    "print(cal1.add(3))\n",
    "print(cal1.add(2))\n",
    "print()\n",
    "print(cal2.add(1))\n",
    "print(cal2.add(2))\n",
    "print()\n",
    "print(cal3.add(1))\n",
    "print(cal3.add(2))\n",
    "print(cal3.add(3))"
   ]
  },
  {
   "cell_type": "code",
   "execution_count": 188,
   "metadata": {},
   "outputs": [
    {
     "name": "stdout",
     "output_type": "stream",
     "text": [
      "3\n",
      "2\n",
      "7\n",
      "12\n"
     ]
    },
    {
     "ename": "TypeError",
     "evalue": "Cal.add() takes 1 positional argument but 3 were given",
     "output_type": "error",
     "traceback": [
      "\u001b[1;31m---------------------------------------------------------------------------\u001b[0m",
      "\u001b[1;31mTypeError\u001b[0m                                 Traceback (most recent call last)",
      "Cell \u001b[1;32mIn [188], line 27\u001b[0m\n\u001b[0;32m     24\u001b[0m \u001b[39mprint\u001b[39m(cal2\u001b[39m.\u001b[39madd())\n\u001b[0;32m     25\u001b[0m \u001b[39mprint\u001b[39m(cal2\u001b[39m.\u001b[39mmul())\n\u001b[1;32m---> 27\u001b[0m \u001b[39mprint\u001b[39m(cal1\u001b[39m.\u001b[39;49madd(\u001b[39m1\u001b[39;49m,\u001b[39m2\u001b[39;49m))\n\u001b[0;32m     28\u001b[0m \u001b[39mprint\u001b[39m(cal2\u001b[39m.\u001b[39madd(\u001b[39m2\u001b[39m,\u001b[39m3\u001b[39m))\n\u001b[0;32m     30\u001b[0m \u001b[39mprint\u001b[39m(cal1\u001b[39m.\u001b[39mmul(\u001b[39m1\u001b[39m,\u001b[39m2\u001b[39m))\n",
      "\u001b[1;31mTypeError\u001b[0m: Cal.add() takes 1 positional argument but 3 were given"
     ]
    }
   ],
   "source": [
    "# 생성자 Constructor\n",
    "class Cal:\n",
    "    def __init__(self, first, second):\n",
    "        self.first = first\n",
    "        self.second = second\n",
    "    # def setdata(self, first, second):\n",
    "    #     self.first = first\n",
    "    #     self.second = second\n",
    "\n",
    "    def add(self):\n",
    "        result = self.first + self.second\n",
    "        return result\n",
    " \n",
    "    def mul(self):\n",
    "        result = self.first * self.second\n",
    "        return result\n",
    "\n",
    "cal1 = Cal(1,2) \n",
    "# cal1.setdata(1,2)\n",
    "print(cal1.add())\n",
    "print(cal1.mul())\n",
    "cal2 = Cal(3,4) \n",
    "# cal2.setdata(3,4)\n",
    "print(cal2.add())\n",
    "print(cal2.mul())\n",
    "\n",
    "print(cal1.add(1,2))\n",
    "print(cal2.add(2,3))\n",
    "\n",
    "print(cal1.mul(1,2))\n",
    "print(cal2.mul(2,3))\n",
    "\n",
    "# 1 함수(function)가 클래스 안에서 구현될때는 매서드(method)라고 부른다.\n",
    "\n",
    "# 2 매서드의 매개변수 자리의 맨 앞에 self는 그 매서드를 호출한 객체의 이름이 온다."
   ]
  },
  {
   "cell_type": "code",
   "execution_count": 199,
   "metadata": {},
   "outputs": [
    {
     "data": {
      "text/plain": [
       "'계산 불가 입니다.'"
      ]
     },
     "execution_count": 199,
     "metadata": {},
     "output_type": "execute_result"
    }
   ],
   "source": [
    "# 상속 \n",
    "class Cal:\n",
    "    def __init__(self, first, second):\n",
    "        self.first = first\n",
    "        self.second = second\n",
    "\n",
    "    def add(self):\n",
    "        result = self.first + self.second\n",
    "        return result\n",
    "\n",
    "    def mul(self):\n",
    "        result = self.first * self.second\n",
    "        return result\n",
    "    \n",
    "    def div(self):\n",
    "        result = self.first / self.second\n",
    "        return result\n",
    "\n",
    "class MoreCal(Cal):\n",
    "    def sub(self):\n",
    "        result = self.first - self.second\n",
    "        return result\n",
    "\n",
    "    def div(self):\n",
    "        if self.second == 0:\n",
    "            return \"계산 불가 입니다.\"\n",
    "        else: \n",
    "            result = self.first / self.second\n",
    "            return result\n",
    "\n",
    "cal5 = MoreCal(2,0)\n",
    "# cal3.add()\n",
    "cal5.div()\n"
   ]
  },
  {
   "cell_type": "code",
   "execution_count": null,
   "metadata": {},
   "outputs": [],
   "source": [
    "#method overloading 파이선은 이기능을 지원하지 않음 :(\n",
    "\n",
    "class Cal():\n",
    "    def add(a, b):\n",
    "        return a+b\n",
    "    def add(a,b,c):\n",
    "        return a+b+c\n",
    "    def add(a,b,c,d):\n",
    "        return a+b+c+d\n",
    "\n",
    "\n",
    "cal1 = Cal()\n",
    "\n",
    "print(cal1.add(1,2))\n",
    "print(cal1.add(1,2,3))\n",
    "print(cal1.add(1,2,3,4))"
   ]
  },
  {
   "cell_type": "code",
   "execution_count": 208,
   "metadata": {},
   "outputs": [
    {
     "name": "stdout",
     "output_type": "stream",
     "text": [
      "error\n",
      "프로그램을 종료합니다.\n"
     ]
    }
   ],
   "source": [
    "# 예외 처리 exception\n",
    "\n",
    "#오류….에러…가 발생했을 때 적절하게 상황에 따라 처리해 주는 것을 예외 처리 라고 한다. \n",
    "\n",
    "#try:\n",
    "\n",
    "#에러가 발생할수도 있을것 같은 구문\n",
    "\n",
    "#exception:\n",
    "\n",
    "#에러가 발생했을때 적용되는 구문\n",
    "try:\n",
    "    4 / 0\n",
    "except:\n",
    "    print(\"error\")\n",
    "finally:\n",
    "    print(\"프로그램을 종료합니다.\")  #에러방생유무와 상관없이 항상 마지막에 실행"
   ]
  },
  {
   "cell_type": "code",
   "execution_count": 223,
   "metadata": {},
   "outputs": [
    {
     "name": "stdout",
     "output_type": "stream",
     "text": [
      "2\n",
      "찾으시는 인덱스가 없습니다.\n"
     ]
    }
   ],
   "source": [
    "\n",
    "try:\n",
    "    a=[1,2]\n",
    "    print(a[1])\n",
    "    print(4/0)\n",
    "except (ZeroDivisionError, IndexError) as e:\n",
    "    print(\"찾으시는 인덱스가 없습니다.\")"
   ]
  },
  {
   "cell_type": "code",
   "execution_count": 225,
   "metadata": {},
   "outputs": [
    {
     "name": "stdout",
     "output_type": "stream",
     "text": [
      "no problem\n",
      "program end\n"
     ]
    }
   ],
   "source": [
    "try:\n",
    "    4/2\n",
    "except: #문제가 있을때만 실행되는 구문\n",
    "    print(\"exception !!!\")\n",
    "else:   #문제가 없을때만 실행되는 구문\n",
    "    print(\"no problem\")\n",
    "finally:    \n",
    "    print(\"program end\")"
   ]
  },
  {
   "cell_type": "code",
   "execution_count": null,
   "metadata": {},
   "outputs": [],
   "source": [
    "try:\n",
    "    4/0\n",
    "except:\n",
    "    pass"
   ]
  },
  {
   "cell_type": "code",
   "execution_count": 226,
   "metadata": {},
   "outputs": [
    {
     "ename": "NotImplementedError",
     "evalue": "",
     "output_type": "error",
     "traceback": [
      "\u001b[1;31m---------------------------------------------------------------------------\u001b[0m",
      "\u001b[1;31mNotImplementedError\u001b[0m                       Traceback (most recent call last)",
      "Cell \u001b[1;32mIn [226], line 6\u001b[0m\n\u001b[0;32m      3\u001b[0m         \u001b[39mraise\u001b[39;00m \u001b[39mNotImplementedError\u001b[39;00m\n\u001b[0;32m      5\u001b[0m bird \u001b[39m=\u001b[39m Bird()\n\u001b[1;32m----> 6\u001b[0m bird\u001b[39m.\u001b[39;49mfly()\n",
      "Cell \u001b[1;32mIn [226], line 3\u001b[0m, in \u001b[0;36mBird.fly\u001b[1;34m(self)\u001b[0m\n\u001b[0;32m      2\u001b[0m \u001b[39mdef\u001b[39;00m \u001b[39mfly\u001b[39m(\u001b[39mself\u001b[39m):\n\u001b[1;32m----> 3\u001b[0m     \u001b[39mraise\u001b[39;00m \u001b[39mNotImplementedError\u001b[39;00m\n",
      "\u001b[1;31mNotImplementedError\u001b[0m: "
     ]
    }
   ],
   "source": [
    "\n",
    "class Bird:\n",
    "    def fly(self):\n",
    "        raise NotImplementedError\n",
    "\n",
    "bird = Bird()\n",
    "bird.fly()"
   ]
  },
  {
   "cell_type": "code",
   "execution_count": 242,
   "metadata": {},
   "outputs": [
    {
     "name": "stdout",
     "output_type": "stream",
     "text": [
      "3\n"
     ]
    }
   ],
   "source": [
    "class Calculator:\n",
    "    def __init__(self):\n",
    "        self.value = 0\n",
    "\n",
    "    def add(self, val):\n",
    "        self.value += val\n",
    "\n",
    "\n",
    "class UpgradeCalculator(Calculator):\n",
    "    def minus(self, val):\n",
    "        self.value -= val\n",
    "    \n",
    "cal = UpgradeCalculator()\n",
    "cal.add(10)\n",
    "cal.minus(7)\n",
    "\n",
    "print(cal.value)"
   ]
  },
  {
   "cell_type": "code",
   "execution_count": null,
   "metadata": {},
   "outputs": [],
   "source": []
  },
  {
   "cell_type": "code",
   "execution_count": null,
   "metadata": {},
   "outputs": [],
   "source": [
    "class Calculator:\n",
    "    def __init__(self):\n",
    "        self.value = 0\n",
    "\n",
    "    def add(self, val):\n",
    "        self.value += val\n",
    "class "
   ]
  }
 ],
 "metadata": {
  "kernelspec": {
   "display_name": "Python 3.10.6 64-bit",
   "language": "python",
   "name": "python3"
  },
  "language_info": {
   "codemirror_mode": {
    "name": "ipython",
    "version": 3
   },
   "file_extension": ".py",
   "mimetype": "text/x-python",
   "name": "python",
   "nbconvert_exporter": "python",
   "pygments_lexer": "ipython3",
   "version": "3.10.6"
  },
  "orig_nbformat": 4,
  "vscode": {
   "interpreter": {
    "hash": "be042be69eb07c0fcc9843e1c670e24d23c76b83e5f6982cc023fb319a955525"
   }
  }
 },
 "nbformat": 4,
 "nbformat_minor": 2
}
