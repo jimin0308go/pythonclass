{
  "nbformat": 4,
  "nbformat_minor": 0,
  "metadata": {
    "colab": {
      "provenance": [],
      "authorship_tag": "ABX9TyMmK4fzVrcKFUV1F9HHI9Or",
      "include_colab_link": true
    },
    "kernelspec": {
      "name": "python3",
      "display_name": "Python 3"
    },
    "language_info": {
      "name": "python"
    }
  },
  "cells": [
    {
      "cell_type": "markdown",
      "metadata": {
        "id": "view-in-github",
        "colab_type": "text"
      },
      "source": [
        "<a href=\"https://colab.research.google.com/github/jimin0308go/pythonclass/blob/main/Untitled14.ipynb\" target=\"_parent\"><img src=\"https://colab.research.google.com/assets/colab-badge.svg\" alt=\"Open In Colab\"/></a>"
      ]
    },
    {
      "cell_type": "code",
      "execution_count": 7,
      "metadata": {
        "colab": {
          "base_uri": "https://localhost:8080/",
          "height": 391
        },
        "id": "9kPH0H6H9LX8",
        "outputId": "838b126f-7afc-4b64-d087-a58e6914c4ba"
      },
      "outputs": [
        {
          "output_type": "stream",
          "name": "stdout",
          "text": [
            "ERROR: unknown command \"quesiton\"\n"
          ]
        },
        {
          "output_type": "error",
          "ename": "ModuleNotFoundError",
          "evalue": "ignored",
          "traceback": [
            "\u001b[0;31m---------------------------------------------------------------------------\u001b[0m",
            "\u001b[0;31mModuleNotFoundError\u001b[0m                       Traceback (most recent call last)",
            "\u001b[0;32m<ipython-input-7-cf70accee3c8>\u001b[0m in \u001b[0;36m<module>\u001b[0;34m\u001b[0m\n\u001b[1;32m      1\u001b[0m \u001b[0mget_ipython\u001b[0m\u001b[0;34m(\u001b[0m\u001b[0;34m)\u001b[0m\u001b[0;34m.\u001b[0m\u001b[0msystem\u001b[0m\u001b[0;34m(\u001b[0m\u001b[0;34m'pip quesiton'\u001b[0m\u001b[0;34m)\u001b[0m\u001b[0;34m\u001b[0m\u001b[0;34m\u001b[0m\u001b[0m\n\u001b[0;32m----> 2\u001b[0;31m \u001b[0;32mfrom\u001b[0m \u001b[0mQuestion\u001b[0m \u001b[0;32mimport\u001b[0m \u001b[0mQuestion\u001b[0m\u001b[0;34m\u001b[0m\u001b[0;34m\u001b[0m\u001b[0m\n\u001b[0m\u001b[1;32m      3\u001b[0m question_prompts = [\n\u001b[1;32m      4\u001b[0m     \u001b[0;34m\"What color are apples?\\n(a) Red/Green\\n(b) Purple\\n(c) Orange\\n\\n\"\u001b[0m\u001b[0;34m,\u001b[0m\u001b[0;34m\u001b[0m\u001b[0;34m\u001b[0m\u001b[0m\n\u001b[1;32m      5\u001b[0m     \u001b[0;34m\"What color are Bananas?\\n(a) Teal\\n(b) Magenta\\n(c) Yellow\\n\\n\"\u001b[0m\u001b[0;34m,\u001b[0m\u001b[0;34m\u001b[0m\u001b[0;34m\u001b[0m\u001b[0m\n",
            "\u001b[0;31mModuleNotFoundError\u001b[0m: No module named 'Question'",
            "",
            "\u001b[0;31m---------------------------------------------------------------------------\u001b[0;32m\nNOTE: If your import is failing due to a missing package, you can\nmanually install dependencies using either !pip or !apt.\n\nTo view examples of installing some common dependencies, click the\n\"Open Examples\" button below.\n\u001b[0;31m---------------------------------------------------------------------------\u001b[0m\n"
          ],
          "errorDetails": {
            "actions": [
              {
                "action": "open_url",
                "actionText": "Open Examples",
                "url": "/notebooks/snippets/importing_libraries.ipynb"
              }
            ]
          }
        }
      ],
      "source": [
        "!pip quesiton\n",
        "from Question import Question\n",
        "question_prompts = [\n",
        "    \"What color are apples?\\n(a) Red/Green\\n(b) Purple\\n(c) Orange\\n\\n\",\n",
        "    \"What color are Bananas?\\n(a) Teal\\n(b) Magenta\\n(c) Yellow\\n\\n\",\n",
        "    \"What color are strawberries?\\n(a) Yellow\\n(b) Red\\n(c) Blue\\n\\n\"\n",
        "]\n",
        "\n",
        "questions = [\n",
        "    Question(question_prompts[0], \"a\"),\n",
        "    Question(question_prompts[1], \"c\"),\n",
        "    Question(question_prompts[2], \"b\"),\n",
        "]\n",
        "\n",
        "def run_test(quesitons):\n",
        "  score = 0\n",
        "  for question in question:\n",
        "    answer = input(question.prompt)\n",
        "    if answer == question.answer:\n",
        "      score += 1\n",
        "  print(\"You got \" + str(score) + \"/\" + str(len(questions)) + \"correct\")\n",
        "\n",
        "run_test(quseitons)"
      ]
    },
    {
      "cell_type": "code",
      "source": [],
      "metadata": {
        "id": "8bNnr7JP-cWE"
      },
      "execution_count": null,
      "outputs": []
    }
  ]
}